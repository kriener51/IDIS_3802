{
 "cells": [
  {
   "cell_type": "markdown",
   "metadata": {},
   "source": [
    "# Kickstarter Project"
   ]
  },
  {
   "cell_type": "markdown",
   "metadata": {},
   "source": [
    "Allison Yan Cao, Constance McCarney, and Kyle Riener"
   ]
  },
  {
   "cell_type": "code",
   "execution_count": 1,
   "metadata": {},
   "outputs": [
    {
     "name": "stdout",
     "output_type": "stream",
     "text": [
      "Populating the interactive namespace from numpy and matplotlib\n"
     ]
    }
   ],
   "source": [
    "# prepare the notebook\n",
    "from IPython.core.interactiveshell import InteractiveShell\n",
    "InteractiveShell.ast_node_interactivity = \"all\"\n",
    "\n",
    "import pandas as pd\n",
    "import numpy as np\n",
    "import seaborn as sns\n",
    "%pylab inline\n",
    "\n",
    "import sklearn as sk\n",
    "import sklearn.tree as tree\n",
    "from IPython.display import Image  \n",
    "import pydotplus\n",
    "from datetime import datetime"
   ]
  },
  {
   "cell_type": "code",
   "execution_count": 2,
   "metadata": {
    "collapsed": true
   },
   "outputs": [],
   "source": [
    "import warnings\n",
    "warnings.filterwarnings('ignore')\n",
    "pd.options.display.float_format = '{:20,.3f}'.format"
   ]
  },
  {
   "cell_type": "code",
   "execution_count": 3,
   "metadata": {},
   "outputs": [],
   "source": [
    "# load dataframe\n",
    "ks = pd.read_csv('ks-projects-201801.csv')"
   ]
  },
  {
   "cell_type": "markdown",
   "metadata": {},
   "source": [
    "# Data Set Description"
   ]
  },
  {
   "cell_type": "markdown",
   "metadata": {},
   "source": [
    "**Kickstarter** is an American public-benefit corporation based in Brooklyn, New York, that maintains a global crowdfunding platform focused on creativity. The company's stated mission is to \"help bring creative projects to life\". Kickstarter has reportedly received more than $1.9 billion in pledges from 9.4 million backers to fund 257,000 creative projects, such as films, music, stage shows, comics, journalism, video games, technology and food-related projects.\n",
    "\n",
    "<li> The datasets contain kickstarter projects from 05/2009 to 01/2018.\n",
    "\n",
    "##### Columns:\n",
    "<ul>\n",
    "<li> **name**: name of the ks project\n",
    "<li> **category**: category of the ks project\n",
    "<li> **main_category**: main category of the ks project\n",
    "<li> **currency**: currency type of the pledges\n",
    "<li> **deadline**: deadline date of the ks project\n",
    "<li> **launched**: launch date of the ks project\n",
    "<li> **state**: current status of the ks project\n",
    "<li> **backers**: number of backers to the ks project\n",
    "<li> **country**: country where the ks project based \n",
    "<li> **usd_pledged_real**: conversion in US dollars of the pledged amount\n",
    "<li> **usd_goal_real**: conversion in US dollars of the goal amount\n",
    "</ul>"
   ]
  },
  {
   "cell_type": "code",
   "execution_count": 4,
   "metadata": {
    "scrolled": false
   },
   "outputs": [
    {
     "data": {
      "text/plain": [
       "(378661, 15)"
      ]
     },
     "execution_count": 4,
     "metadata": {},
     "output_type": "execute_result"
    }
   ],
   "source": [
    "ks.shape"
   ]
  },
  {
   "cell_type": "code",
   "execution_count": 5,
   "metadata": {
    "scrolled": true
   },
   "outputs": [
    {
     "data": {
      "text/html": [
       "<div>\n",
       "<style>\n",
       "    .dataframe thead tr:only-child th {\n",
       "        text-align: right;\n",
       "    }\n",
       "\n",
       "    .dataframe thead th {\n",
       "        text-align: left;\n",
       "    }\n",
       "\n",
       "    .dataframe tbody tr th {\n",
       "        vertical-align: top;\n",
       "    }\n",
       "</style>\n",
       "<table border=\"1\" class=\"dataframe\">\n",
       "  <thead>\n",
       "    <tr style=\"text-align: right;\">\n",
       "      <th></th>\n",
       "      <th>ID</th>\n",
       "      <th>name</th>\n",
       "      <th>category</th>\n",
       "      <th>main_category</th>\n",
       "      <th>currency</th>\n",
       "      <th>deadline</th>\n",
       "      <th>goal</th>\n",
       "      <th>launched</th>\n",
       "      <th>pledged</th>\n",
       "      <th>state</th>\n",
       "      <th>backers</th>\n",
       "      <th>country</th>\n",
       "      <th>usd pledged</th>\n",
       "      <th>usd_pledged_real</th>\n",
       "      <th>usd_goal_real</th>\n",
       "    </tr>\n",
       "  </thead>\n",
       "  <tbody>\n",
       "    <tr>\n",
       "      <th>0</th>\n",
       "      <td>1000002330</td>\n",
       "      <td>The Songs of Adelaide &amp; Abullah</td>\n",
       "      <td>Poetry</td>\n",
       "      <td>Publishing</td>\n",
       "      <td>GBP</td>\n",
       "      <td>2015-10-09</td>\n",
       "      <td>1,000.000</td>\n",
       "      <td>2015-08-11 12:12:28</td>\n",
       "      <td>0.000</td>\n",
       "      <td>failed</td>\n",
       "      <td>0</td>\n",
       "      <td>GB</td>\n",
       "      <td>0.000</td>\n",
       "      <td>0.000</td>\n",
       "      <td>1,533.950</td>\n",
       "    </tr>\n",
       "    <tr>\n",
       "      <th>1</th>\n",
       "      <td>1000003930</td>\n",
       "      <td>Greeting From Earth: ZGAC Arts Capsule For ET</td>\n",
       "      <td>Narrative Film</td>\n",
       "      <td>Film &amp; Video</td>\n",
       "      <td>USD</td>\n",
       "      <td>2017-11-01</td>\n",
       "      <td>30,000.000</td>\n",
       "      <td>2017-09-02 04:43:57</td>\n",
       "      <td>2,421.000</td>\n",
       "      <td>failed</td>\n",
       "      <td>15</td>\n",
       "      <td>US</td>\n",
       "      <td>100.000</td>\n",
       "      <td>2,421.000</td>\n",
       "      <td>30,000.000</td>\n",
       "    </tr>\n",
       "  </tbody>\n",
       "</table>\n",
       "</div>"
      ],
      "text/plain": [
       "           ID                                           name        category  \\\n",
       "0  1000002330                The Songs of Adelaide & Abullah          Poetry   \n",
       "1  1000003930  Greeting From Earth: ZGAC Arts Capsule For ET  Narrative Film   \n",
       "\n",
       "  main_category currency    deadline                 goal  \\\n",
       "0    Publishing      GBP  2015-10-09            1,000.000   \n",
       "1  Film & Video      USD  2017-11-01           30,000.000   \n",
       "\n",
       "              launched              pledged   state  backers country  \\\n",
       "0  2015-08-11 12:12:28                0.000  failed        0      GB   \n",
       "1  2017-09-02 04:43:57            2,421.000  failed       15      US   \n",
       "\n",
       "           usd pledged     usd_pledged_real        usd_goal_real  \n",
       "0                0.000                0.000            1,533.950  \n",
       "1              100.000            2,421.000           30,000.000  "
      ]
     },
     "execution_count": 5,
     "metadata": {},
     "output_type": "execute_result"
    }
   ],
   "source": [
    "# view first few lines of dataframe\n",
    "ks.head(2)"
   ]
  },
  {
   "cell_type": "markdown",
   "metadata": {},
   "source": [
    "Here are the top countries with the most kickstarter campaigns and the total number of campaigns by status."
   ]
  },
  {
   "cell_type": "code",
   "execution_count": 6,
   "metadata": {},
   "outputs": [
    {
     "data": {
      "text/plain": [
       "country\n",
       "US    292627\n",
       "GB     33672\n",
       "CA     14756\n",
       "AU      7839\n",
       "DE      4171\n",
       "dtype: int64"
      ]
     },
     "execution_count": 6,
     "metadata": {},
     "output_type": "execute_result"
    },
    {
     "data": {
      "text/plain": [
       "state\n",
       "failed        197719\n",
       "successful    133956\n",
       "canceled       38779\n",
       "undefined       3562\n",
       "live            2799\n",
       "suspended       1846\n",
       "dtype: int64"
      ]
     },
     "execution_count": 6,
     "metadata": {},
     "output_type": "execute_result"
    }
   ],
   "source": [
    "ks.groupby('country').size().sort_values(ascending=False).head()\n",
    "ks.groupby('state').size().sort_values(ascending=False)"
   ]
  },
  {
   "cell_type": "markdown",
   "metadata": {},
   "source": [
    "We will be looking at the differences among only the top 3 countries, the US, Great Britain, and Canada. Since we are only interested in those campaigns that succeed or fail, we will drop those campaigns which end early, either because they are suspended or canceled, are still ongoing or are otherwise undefined. Also, this dataset helpfully already has converted the pledged and goal amounts into real US dollars so we can drop the extraneous amount columns."
   ]
  },
  {
   "cell_type": "code",
   "execution_count": 7,
   "metadata": {},
   "outputs": [],
   "source": [
    "ks.drop(ks[((ks.country == 'US') | (ks.country == 'GB') | (ks.country == 'CA')) == False].index, inplace=True)\n",
    "ks.drop(ks[((ks.state == 'failed') | (ks.state == 'successful')) == False].index, inplace=True)\n",
    "ks.drop(['pledged','goal','usd pledged','currency'], axis=1, inplace=True)\n",
    "ks.dropna(inplace=True)"
   ]
  },
  {
   "cell_type": "code",
   "execution_count": 8,
   "metadata": {},
   "outputs": [
    {
     "data": {
      "text/plain": [
       "(303181, 11)"
      ]
     },
     "execution_count": 8,
     "metadata": {},
     "output_type": "execute_result"
    }
   ],
   "source": [
    "ks.shape"
   ]
  },
  {
   "cell_type": "markdown",
   "metadata": {},
   "source": [
    "# Data Preparation"
   ]
  },
  {
   "cell_type": "markdown",
   "metadata": {},
   "source": [
    "First we convert the date fields and extract their component time dimensions: day of the week (0-6), month (01-12), and hour (01-23). "
   ]
  },
  {
   "cell_type": "code",
   "execution_count": 9,
   "metadata": {
    "collapsed": true
   },
   "outputs": [],
   "source": [
    "ks.loc[:,['deadline', 'launched']] = ks.loc[:,['deadline', 'launched']].apply(pd.to_datetime)\n",
    "ks['launch_week_day'] = ks.launched.apply(lambda x: datetime.strftime(x,'%w')).astype(int)\n",
    "ks['launch_month'] = ks.launched.apply(lambda x: datetime.strftime(x,'%m')).astype(int)\n",
    "ks['launch_hour'] = ks.launched.apply(lambda x: datetime.strftime(x,'%H')).astype(int)"
   ]
  },
  {
   "cell_type": "markdown",
   "metadata": {},
   "source": [
    "With this information preserved we can convert the launched column to datetime type again and then generate a new column, \"duration,\" representing the length of campaign in days."
   ]
  },
  {
   "cell_type": "code",
   "execution_count": 10,
   "metadata": {
    "scrolled": true
   },
   "outputs": [],
   "source": [
    "ks['launched'] = ks['launched'].dt.date\n",
    "ks['launched'] = pd.to_datetime(ks['launched'])\n",
    "\n",
    "ks['duration'] = ks['deadline'] - ks['launched']\n",
    "ks['duration'] = ks['duration'].dt.days"
   ]
  },
  {
   "cell_type": "markdown",
   "metadata": {},
   "source": [
    "Now we'll create a dummy variable to indicate the successful campaigns and organize the duration into a categorical."
   ]
  },
  {
   "cell_type": "code",
   "execution_count": 11,
   "metadata": {
    "collapsed": true
   },
   "outputs": [],
   "source": [
    "ks['DurationBin'] = ks.duration.apply(lambda x: '30' if x==30 else '<30' if x<30 else '>30')\n",
    "\n",
    "ks = pd.get_dummies(ks, columns=['state']).rename(columns=\\\n",
    "                {'state_successful':'success'}).drop(['state_failed'], axis=1)"
   ]
  },
  {
   "cell_type": "markdown",
   "metadata": {},
   "source": [
    "Finally, we will create separate country specific datasets to make our analysis simpler."
   ]
  },
  {
   "cell_type": "code",
   "execution_count": 12,
   "metadata": {},
   "outputs": [
    {
     "data": {
      "text/plain": [
       "(261358, 16)"
      ]
     },
     "execution_count": 12,
     "metadata": {},
     "output_type": "execute_result"
    },
    {
     "data": {
      "text/plain": [
       "(29453, 16)"
      ]
     },
     "execution_count": 12,
     "metadata": {},
     "output_type": "execute_result"
    },
    {
     "data": {
      "text/plain": [
       "(12370, 16)"
      ]
     },
     "execution_count": 12,
     "metadata": {},
     "output_type": "execute_result"
    }
   ],
   "source": [
    "us = ks[ks.country == 'US']\n",
    "gb = ks[ks.country == 'GB']\n",
    "ca = ks[ks.country == 'CA']\n",
    "us.shape\n",
    "gb.shape\n",
    "ca.shape"
   ]
  },
  {
   "cell_type": "markdown",
   "metadata": {},
   "source": [
    "# General Analysis"
   ]
  },
  {
   "cell_type": "markdown",
   "metadata": {},
   "source": [
    "Let's take a look at the success rate per country and see which main categories perform strongest."
   ]
  },
  {
   "cell_type": "code",
   "execution_count": 13,
   "metadata": {
    "scrolled": false
   },
   "outputs": [
    {
     "data": {
      "text/plain": [
       "country\n",
       "US                  0.418\n",
       "GB                  0.410\n",
       "CA                  0.334\n",
       "Name: success, dtype: float64"
      ]
     },
     "execution_count": 13,
     "metadata": {},
     "output_type": "execute_result"
    }
   ],
   "source": [
    "ks.groupby('country').success.mean().sort_values(ascending=False)"
   ]
  },
  {
   "cell_type": "code",
   "execution_count": 14,
   "metadata": {
    "scrolled": false
   },
   "outputs": [
    {
     "data": {
      "text/plain": [
       "<seaborn.axisgrid.FacetGrid at 0x19471dd8>"
      ]
     },
     "execution_count": 14,
     "metadata": {},
     "output_type": "execute_result"
    },
    {
     "data": {
      "image/png": "[encoded data removed]",
      "text/plain": [
       "<matplotlib.figure.Figure at 0x19471780>"
      ]
     },
     "metadata": {},
     "output_type": "display_data"
    }
   ],
   "source": [
    "sns.factorplot(x='main_category',y='success',kind='bar', data=ks,aspect=4)"
   ]
  },
  {
   "cell_type": "markdown",
   "metadata": {},
   "source": [
    "   "
   ]
  },
  {
   "cell_type": "markdown",
   "metadata": {},
   "source": [
    "Now that we've seen how the various categories perform in different countries, let's see if some deeper analysis with machine learning  can yield more insights about kickstarter winners.\n",
    "We will prepare the dataset for further analysis and then create additional sets for each country. By looking at a heatmap of the correlation matrix we see that backers and usd_pledged_real are highly correlated so we will drop pledges."
   ]
  },
  {
   "cell_type": "code",
   "execution_count": 15,
   "metadata": {},
   "outputs": [],
   "source": [
    "dumks = pd.get_dummies(ks, columns=['main_category','DurationBin'])\n",
    "dumks.drop(['ID','name','category','deadline','launched','duration'],axis=1,inplace=True)"
   ]
  },
  {
   "cell_type": "code",
   "execution_count": 16,
   "metadata": {
    "scrolled": true
   },
   "outputs": [
    {
     "data": {
      "text/plain": [
       "<matplotlib.figure.Figure at 0x194718d0>"
      ]
     },
     "execution_count": 16,
     "metadata": {},
     "output_type": "execute_result"
    },
    {
     "data": {
      "text/plain": [
       "<matplotlib.axes._subplots.AxesSubplot at 0x14756d30>"
      ]
     },
     "execution_count": 16,
     "metadata": {},
     "output_type": "execute_result"
    },
    {
     "data": {
      "image/png": "[encoded data removed]",
      "text/plain": [
       "<matplotlib.figure.Figure at 0x194718d0>"
      ]
     },
     "metadata": {},
     "output_type": "display_data"
    }
   ],
   "source": [
    "matplotlib.pyplot.figure(figsize=(8,8))\n",
    "sns.heatmap(dumks.corr(),center=0)"
   ]
  },
  {
   "cell_type": "markdown",
   "metadata": {},
   "source": [
    "# Logistic Regression"
   ]
  },
  {
   "cell_type": "markdown",
   "metadata": {},
   "source": [
    "We'll start with a logistic regression to understand which main_category variables have the greatest impact on success at the country level."
   ]
  },
  {
   "cell_type": "code",
   "execution_count": 17,
   "metadata": {},
   "outputs": [],
   "source": [
    "from sklearn.model_selection import train_test_split\n",
    "from sklearn.neighbors import KNeighborsClassifier\n",
    "from sklearn import linear_model\n",
    "import statsmodels.api as sm"
   ]
  },
  {
   "cell_type": "code",
   "execution_count": 18,
   "metadata": {
    "collapsed": true
   },
   "outputs": [],
   "source": [
    "us_log = dumks[dumks.country == 'US'].drop(['usd_pledged_real','country'],axis=1)\n",
    "gb_log = dumks[dumks.country == 'GB'].drop(['usd_pledged_real','country'],axis=1)\n",
    "ca_log = dumks[dumks.country == 'CA'].drop(['usd_pledged_real','country'],axis=1)"
   ]
  },
  {
   "cell_type": "markdown",
   "metadata": {},
   "source": [
    "### United States"
   ]
  },
  {
   "cell_type": "code",
   "execution_count": 19,
   "metadata": {
    "collapsed": true
   },
   "outputs": [],
   "source": [
    "# define X and Y for US set\n",
    "Xu = us_log.drop('success', axis=1)\n",
    "Yu = us_log.success\n",
    "Xu_train, Xu_test, Yu_train, Yu_test = train_test_split(Xu,Yu,\n",
    "                                    test_size=.3,random_state=0)"
   ]
  },
  {
   "cell_type": "code",
   "execution_count": 20,
   "metadata": {},
   "outputs": [
    {
     "data": {
      "text/plain": [
       "LogisticRegression(C=100000.0, class_weight=None, dual=False,\n",
       "          fit_intercept=True, intercept_scaling=1, max_iter=100,\n",
       "          multi_class='ovr', n_jobs=1, penalty='l2', random_state=None,\n",
       "          solver='liblinear', tol=0.0001, verbose=0, warm_start=False)"
      ]
     },
     "execution_count": 20,
     "metadata": {},
     "output_type": "execute_result"
    },
    {
     "name": "stdout",
     "output_type": "stream",
     "text": [
      "***********\n",
      "('accuracy_score:', 0.90478012447709422)\n",
      "classification_report:\n",
      "             precision    recall  f1-score   support\n",
      "\n",
      "          0       0.89      0.95      0.92     45678\n",
      "          1       0.92      0.84      0.88     32730\n",
      "\n",
      "avg / total       0.91      0.90      0.90     78408\n",
      "\n",
      "confusion_matrix:\n",
      "[[43399  2279]\n",
      " [ 5187 27543]]\n"
     ]
    }
   ],
   "source": [
    "# train the logistic regression for US set\n",
    "logistic = linear_model.LogisticRegression(C=1e5)\n",
    "logistic.fit(Xu_train,Yu_train)\n",
    "predUS = logistic.predict(Xu_test)\n",
    "print(\"***********\")\n",
    "print(\"accuracy_score:\", sk.metrics.accuracy_score(Yu_test, predUS, normalize=True))\n",
    "print(\"classification_report:\")\n",
    "print(sk.metrics.classification_report(Yu_test, predUS))\n",
    "print(\"confusion_matrix:\")\n",
    "print(sk.metrics.confusion_matrix(Yu_test, predUS))"
   ]
  },
  {
   "cell_type": "code",
   "execution_count": 21,
   "metadata": {},
   "outputs": [
    {
     "data": {
      "text/html": [
       "<table class=\"simpletable\">\n",
       "<caption>OLS Regression Results</caption>\n",
       "<tr>\n",
       "  <th>Dep. Variable:</th>         <td>success</td>     <th>  R-squared:         </th>  <td>   0.074</td>  \n",
       "</tr>\n",
       "<tr>\n",
       "  <th>Model:</th>                   <td>OLS</td>       <th>  Adj. R-squared:    </th>  <td>   0.074</td>  \n",
       "</tr>\n",
       "<tr>\n",
       "  <th>Method:</th>             <td>Least Squares</td>  <th>  F-statistic:       </th>  <td>   696.9</td>  \n",
       "</tr>\n",
       "<tr>\n",
       "  <th>Date:</th>             <td>Tue, 20 Mar 2018</td> <th>  Prob (F-statistic):</th>   <td>  0.00</td>   \n",
       "</tr>\n",
       "<tr>\n",
       "  <th>Time:</th>                 <td>12:51:09</td>     <th>  Log-Likelihood:    </th> <td>-1.2328e+05</td>\n",
       "</tr>\n",
       "<tr>\n",
       "  <th>No. Observations:</th>      <td>182950</td>      <th>  AIC:               </th>  <td>2.466e+05</td> \n",
       "</tr>\n",
       "<tr>\n",
       "  <th>Df Residuals:</th>          <td>182928</td>      <th>  BIC:               </th>  <td>2.468e+05</td> \n",
       "</tr>\n",
       "<tr>\n",
       "  <th>Df Model:</th>              <td>    21</td>      <th>                     </th>      <td> </td>     \n",
       "</tr>\n",
       "<tr>\n",
       "  <th>Covariance Type:</th>      <td>nonrobust</td>    <th>                     </th>      <td> </td>     \n",
       "</tr>\n",
       "</table>\n",
       "<table class=\"simpletable\">\n",
       "<tr>\n",
       "               <td></td>                 <th>coef</th>     <th>std err</th>      <th>t</th>      <th>P>|t|</th>  <th>[0.025</th>    <th>0.975]</th>  \n",
       "</tr>\n",
       "<tr>\n",
       "  <th>const</th>                      <td>    0.3170</td> <td>    0.003</td> <td>  113.491</td> <td> 0.000</td> <td>    0.312</td> <td>    0.322</td>\n",
       "</tr>\n",
       "<tr>\n",
       "  <th>backers</th>                    <td> 5.462e-05</td> <td> 1.04e-06</td> <td>   52.454</td> <td> 0.000</td> <td> 5.26e-05</td> <td> 5.67e-05</td>\n",
       "</tr>\n",
       "<tr>\n",
       "  <th>usd_goal_real</th>              <td>-1.167e-08</td> <td> 1.19e-09</td> <td>   -9.772</td> <td> 0.000</td> <td> -1.4e-08</td> <td>-9.33e-09</td>\n",
       "</tr>\n",
       "<tr>\n",
       "  <th>launch_week_day</th>            <td>   -0.0054</td> <td>    0.001</td> <td>   -8.170</td> <td> 0.000</td> <td>   -0.007</td> <td>   -0.004</td>\n",
       "</tr>\n",
       "<tr>\n",
       "  <th>launch_month</th>               <td>   -0.0010</td> <td>    0.000</td> <td>   -3.085</td> <td> 0.002</td> <td>   -0.002</td> <td>   -0.000</td>\n",
       "</tr>\n",
       "<tr>\n",
       "  <th>launch_hour</th>                <td>    0.0010</td> <td>    0.000</td> <td>    7.285</td> <td> 0.000</td> <td>    0.001</td> <td>    0.001</td>\n",
       "</tr>\n",
       "<tr>\n",
       "  <th>main_category_Art</th>          <td>    0.0617</td> <td>    0.004</td> <td>   15.529</td> <td> 0.000</td> <td>    0.054</td> <td>    0.069</td>\n",
       "</tr>\n",
       "<tr>\n",
       "  <th>main_category_Comics</th>       <td>    0.1942</td> <td>    0.006</td> <td>   32.071</td> <td> 0.000</td> <td>    0.182</td> <td>    0.206</td>\n",
       "</tr>\n",
       "<tr>\n",
       "  <th>main_category_Crafts</th>       <td>   -0.1160</td> <td>    0.007</td> <td>  -16.501</td> <td> 0.000</td> <td>   -0.130</td> <td>   -0.102</td>\n",
       "</tr>\n",
       "<tr>\n",
       "  <th>main_category_Dance</th>        <td>    0.2735</td> <td>    0.010</td> <td>   28.376</td> <td> 0.000</td> <td>    0.255</td> <td>    0.292</td>\n",
       "</tr>\n",
       "<tr>\n",
       "  <th>main_category_Design</th>       <td>    0.0146</td> <td>    0.004</td> <td>    3.519</td> <td> 0.000</td> <td>    0.006</td> <td>    0.023</td>\n",
       "</tr>\n",
       "<tr>\n",
       "  <th>main_category_Fashion</th>      <td>   -0.1119</td> <td>    0.005</td> <td>  -24.074</td> <td> 0.000</td> <td>   -0.121</td> <td>   -0.103</td>\n",
       "</tr>\n",
       "<tr>\n",
       "  <th>main_category_Film & Video</th> <td>    0.0259</td> <td>    0.003</td> <td>    9.065</td> <td> 0.000</td> <td>    0.020</td> <td>    0.031</td>\n",
       "</tr>\n",
       "<tr>\n",
       "  <th>main_category_Food</th>         <td>   -0.0936</td> <td>    0.004</td> <td>  -22.162</td> <td> 0.000</td> <td>   -0.102</td> <td>   -0.085</td>\n",
       "</tr>\n",
       "<tr>\n",
       "  <th>main_category_Games</th>        <td>    0.0471</td> <td>    0.004</td> <td>   11.713</td> <td> 0.000</td> <td>    0.039</td> <td>    0.055</td>\n",
       "</tr>\n",
       "<tr>\n",
       "  <th>main_category_Journalism</th>   <td>   -0.1306</td> <td>    0.010</td> <td>  -13.544</td> <td> 0.000</td> <td>   -0.149</td> <td>   -0.112</td>\n",
       "</tr>\n",
       "<tr>\n",
       "  <th>main_category_Music</th>        <td>    0.1459</td> <td>    0.003</td> <td>   48.268</td> <td> 0.000</td> <td>    0.140</td> <td>    0.152</td>\n",
       "</tr>\n",
       "<tr>\n",
       "  <th>main_category_Photography</th>  <td>   -0.0473</td> <td>    0.006</td> <td>   -7.394</td> <td> 0.000</td> <td>   -0.060</td> <td>   -0.035</td>\n",
       "</tr>\n",
       "<tr>\n",
       "  <th>main_category_Publishing</th>   <td>   -0.0459</td> <td>    0.003</td> <td>  -13.296</td> <td> 0.000</td> <td>   -0.053</td> <td>   -0.039</td>\n",
       "</tr>\n",
       "<tr>\n",
       "  <th>main_category_Technology</th>   <td>   -0.1296</td> <td>    0.004</td> <td>  -30.736</td> <td> 0.000</td> <td>   -0.138</td> <td>   -0.121</td>\n",
       "</tr>\n",
       "<tr>\n",
       "  <th>main_category_Theater</th>      <td>    0.2289</td> <td>    0.006</td> <td>   38.212</td> <td> 0.000</td> <td>    0.217</td> <td>    0.241</td>\n",
       "</tr>\n",
       "<tr>\n",
       "  <th>DurationBin_30</th>             <td>    0.0464</td> <td>    0.002</td> <td>   26.720</td> <td> 0.000</td> <td>    0.043</td> <td>    0.050</td>\n",
       "</tr>\n",
       "<tr>\n",
       "  <th>DurationBin_<30</th>            <td>    0.2021</td> <td>    0.002</td> <td>   91.701</td> <td> 0.000</td> <td>    0.198</td> <td>    0.206</td>\n",
       "</tr>\n",
       "<tr>\n",
       "  <th>DurationBin_>30</th>            <td>    0.0686</td> <td>    0.002</td> <td>   37.886</td> <td> 0.000</td> <td>    0.065</td> <td>    0.072</td>\n",
       "</tr>\n",
       "</table>\n",
       "<table class=\"simpletable\">\n",
       "<tr>\n",
       "  <th>Omnibus:</th>       <td>3403.541</td> <th>  Durbin-Watson:     </th> <td>   2.011</td>\n",
       "</tr>\n",
       "<tr>\n",
       "  <th>Prob(Omnibus):</th>  <td> 0.000</td>  <th>  Jarque-Bera (JB):  </th> <td>5408.862</td>\n",
       "</tr>\n",
       "<tr>\n",
       "  <th>Skew:</th>           <td> 0.187</td>  <th>  Prob(JB):          </th> <td>    0.00</td>\n",
       "</tr>\n",
       "<tr>\n",
       "  <th>Kurtosis:</th>       <td> 3.755</td>  <th>  Cond. No.          </th> <td>5.66e+21</td>\n",
       "</tr>\n",
       "</table>"
      ],
      "text/plain": [
       "<class 'statsmodels.iolib.summary.Summary'>\n",
       "\"\"\"\n",
       "                            OLS Regression Results                            \n",
       "==============================================================================\n",
       "Dep. Variable:                success   R-squared:                       0.074\n",
       "Model:                            OLS   Adj. R-squared:                  0.074\n",
       "Method:                 Least Squares   F-statistic:                     696.9\n",
       "Date:                Tue, 20 Mar 2018   Prob (F-statistic):               0.00\n",
       "Time:                        12:51:09   Log-Likelihood:            -1.2328e+05\n",
       "No. Observations:              182950   AIC:                         2.466e+05\n",
       "Df Residuals:                  182928   BIC:                         2.468e+05\n",
       "Df Model:                          21                                         \n",
       "Covariance Type:            nonrobust                                         \n",
       "==============================================================================================\n",
       "                                 coef    std err          t      P>|t|      [0.025      0.975]\n",
       "----------------------------------------------------------------------------------------------\n",
       "const                          0.3170      0.003    113.491      0.000       0.312       0.322\n",
       "backers                     5.462e-05   1.04e-06     52.454      0.000    5.26e-05    5.67e-05\n",
       "usd_goal_real              -1.167e-08   1.19e-09     -9.772      0.000    -1.4e-08   -9.33e-09\n",
       "launch_week_day               -0.0054      0.001     -8.170      0.000      -0.007      -0.004\n",
       "launch_month                  -0.0010      0.000     -3.085      0.002      -0.002      -0.000\n",
       "launch_hour                    0.0010      0.000      7.285      0.000       0.001       0.001\n",
       "main_category_Art              0.0617      0.004     15.529      0.000       0.054       0.069\n",
       "main_category_Comics           0.1942      0.006     32.071      0.000       0.182       0.206\n",
       "main_category_Crafts          -0.1160      0.007    -16.501      0.000      -0.130      -0.102\n",
       "main_category_Dance            0.2735      0.010     28.376      0.000       0.255       0.292\n",
       "main_category_Design           0.0146      0.004      3.519      0.000       0.006       0.023\n",
       "main_category_Fashion         -0.1119      0.005    -24.074      0.000      -0.121      -0.103\n",
       "main_category_Film & Video     0.0259      0.003      9.065      0.000       0.020       0.031\n",
       "main_category_Food            -0.0936      0.004    -22.162      0.000      -0.102      -0.085\n",
       "main_category_Games            0.0471      0.004     11.713      0.000       0.039       0.055\n",
       "main_category_Journalism      -0.1306      0.010    -13.544      0.000      -0.149      -0.112\n",
       "main_category_Music            0.1459      0.003     48.268      0.000       0.140       0.152\n",
       "main_category_Photography     -0.0473      0.006     -7.394      0.000      -0.060      -0.035\n",
       "main_category_Publishing      -0.0459      0.003    -13.296      0.000      -0.053      -0.039\n",
       "main_category_Technology      -0.1296      0.004    -30.736      0.000      -0.138      -0.121\n",
       "main_category_Theater          0.2289      0.006     38.212      0.000       0.217       0.241\n",
       "DurationBin_30                 0.0464      0.002     26.720      0.000       0.043       0.050\n",
       "DurationBin_<30                0.2021      0.002     91.701      0.000       0.198       0.206\n",
       "DurationBin_>30                0.0686      0.002     37.886      0.000       0.065       0.072\n",
       "==============================================================================\n",
       "Omnibus:                     3403.541   Durbin-Watson:                   2.011\n",
       "Prob(Omnibus):                  0.000   Jarque-Bera (JB):             5408.862\n",
       "Skew:                           0.187   Prob(JB):                         0.00\n",
       "Kurtosis:                       3.755   Cond. No.                     5.66e+21\n",
       "==============================================================================\n",
       "\n",
       "Warnings:\n",
       "[1] Standard Errors assume that the covariance matrix of the errors is correctly specified.\n",
       "[2] The smallest eigenvalue is 4.96e-27. This might indicate that there are\n",
       "strong multicollinearity problems or that the design matrix is singular.\n",
       "\"\"\""
      ]
     },
     "execution_count": 21,
     "metadata": {},
     "output_type": "execute_result"
    }
   ],
   "source": [
    "Xu = sm.add_constant(Xu_train)\n",
    "USmodel = sm.OLS(Yu_train, Xu).fit()\n",
    "USmodel.summary()"
   ]
  },
  {
   "cell_type": "markdown",
   "metadata": {},
   "source": [
    "From the coefficient results we can tell main_category of Theater, Dance, and Comics has higher positive significant influnce on success rate."
   ]
  },
  {
   "cell_type": "markdown",
   "metadata": {},
   "source": [
    "### Great Britain"
   ]
  },
  {
   "cell_type": "code",
   "execution_count": 22,
   "metadata": {
    "collapsed": true
   },
   "outputs": [],
   "source": [
    "# define X and Y for GB set\n",
    "Xg = gb_log.drop('success', axis=1)\n",
    "Yg = gb_log.success\n",
    "Xg_train, Xg_test, Yg_train, Yg_test = train_test_split(Xg,Yg,\n",
    "                                    test_size=.3,random_state=0)"
   ]
  },
  {
   "cell_type": "code",
   "execution_count": 23,
   "metadata": {},
   "outputs": [
    {
     "data": {
      "text/plain": [
       "LogisticRegression(C=100000.0, class_weight=None, dual=False,\n",
       "          fit_intercept=True, intercept_scaling=1, max_iter=100,\n",
       "          multi_class='ovr', n_jobs=1, penalty='l2', random_state=None,\n",
       "          solver='liblinear', tol=0.0001, verbose=0, warm_start=False)"
      ]
     },
     "execution_count": 23,
     "metadata": {},
     "output_type": "execute_result"
    },
    {
     "name": "stdout",
     "output_type": "stream",
     "text": [
      "***********\n",
      "('accuracy_score:', 0.89950203712086918)\n",
      "classification_report:\n",
      "             precision    recall  f1-score   support\n",
      "\n",
      "          0       0.89      0.95      0.92      5214\n",
      "          1       0.92      0.83      0.87      3622\n",
      "\n",
      "avg / total       0.90      0.90      0.90      8836\n",
      "\n",
      "confusion_matrix:\n",
      "[[4938  276]\n",
      " [ 612 3010]]\n"
     ]
    }
   ],
   "source": [
    "# train the logistic regression for GB set\n",
    "logistic = linear_model.LogisticRegression(C=1e5)\n",
    "logistic.fit(Xg_train,Yg_train)\n",
    "predGB = logistic.predict(Xg_test)\n",
    "print(\"***********\")\n",
    "print(\"accuracy_score:\", sk.metrics.accuracy_score(Yg_test, predGB, normalize=True))\n",
    "print(\"classification_report:\")\n",
    "print(sk.metrics.classification_report(Yg_test, predGB))\n",
    "print(\"confusion_matrix:\")\n",
    "print(sk.metrics.confusion_matrix(Yg_test, predGB))"
   ]
  },
  {
   "cell_type": "code",
   "execution_count": 24,
   "metadata": {},
   "outputs": [
    {
     "data": {
      "text/html": [
       "<table class=\"simpletable\">\n",
       "<caption>OLS Regression Results</caption>\n",
       "<tr>\n",
       "  <th>Dep. Variable:</th>         <td>success</td>     <th>  R-squared:         </th> <td>   0.123</td> \n",
       "</tr>\n",
       "<tr>\n",
       "  <th>Model:</th>                   <td>OLS</td>       <th>  Adj. R-squared:    </th> <td>   0.122</td> \n",
       "</tr>\n",
       "<tr>\n",
       "  <th>Method:</th>             <td>Least Squares</td>  <th>  F-statistic:       </th> <td>   137.4</td> \n",
       "</tr>\n",
       "<tr>\n",
       "  <th>Date:</th>             <td>Tue, 20 Mar 2018</td> <th>  Prob (F-statistic):</th>  <td>  0.00</td>  \n",
       "</tr>\n",
       "<tr>\n",
       "  <th>Time:</th>                 <td>12:51:10</td>     <th>  Log-Likelihood:    </th> <td> -13270.</td> \n",
       "</tr>\n",
       "<tr>\n",
       "  <th>No. Observations:</th>      <td> 20617</td>      <th>  AIC:               </th> <td>2.658e+04</td>\n",
       "</tr>\n",
       "<tr>\n",
       "  <th>Df Residuals:</th>          <td> 20595</td>      <th>  BIC:               </th> <td>2.676e+04</td>\n",
       "</tr>\n",
       "<tr>\n",
       "  <th>Df Model:</th>              <td>    21</td>      <th>                     </th>     <td> </td>    \n",
       "</tr>\n",
       "<tr>\n",
       "  <th>Covariance Type:</th>      <td>nonrobust</td>    <th>                     </th>     <td> </td>    \n",
       "</tr>\n",
       "</table>\n",
       "<table class=\"simpletable\">\n",
       "<tr>\n",
       "               <td></td>                 <th>coef</th>     <th>std err</th>      <th>t</th>      <th>P>|t|</th>  <th>[0.025</th>    <th>0.975]</th>  \n",
       "</tr>\n",
       "<tr>\n",
       "  <th>const</th>                      <td>    0.3158</td> <td>    0.009</td> <td>   35.032</td> <td> 0.000</td> <td>    0.298</td> <td>    0.333</td>\n",
       "</tr>\n",
       "<tr>\n",
       "  <th>backers</th>                    <td>    0.0002</td> <td> 7.11e-06</td> <td>   29.158</td> <td> 0.000</td> <td>    0.000</td> <td>    0.000</td>\n",
       "</tr>\n",
       "<tr>\n",
       "  <th>usd_goal_real</th>              <td>-4.952e-09</td> <td> 2.01e-09</td> <td>   -2.459</td> <td> 0.014</td> <td> -8.9e-09</td> <td>   -1e-09</td>\n",
       "</tr>\n",
       "<tr>\n",
       "  <th>launch_week_day</th>            <td>   -0.0042</td> <td>    0.002</td> <td>   -2.230</td> <td> 0.026</td> <td>   -0.008</td> <td>   -0.001</td>\n",
       "</tr>\n",
       "<tr>\n",
       "  <th>launch_month</th>               <td>   -0.0018</td> <td>    0.001</td> <td>   -1.898</td> <td> 0.058</td> <td>   -0.004</td> <td> 6.02e-05</td>\n",
       "</tr>\n",
       "<tr>\n",
       "  <th>launch_hour</th>                <td>   -0.0002</td> <td>    0.001</td> <td>   -0.462</td> <td> 0.644</td> <td>   -0.001</td> <td>    0.001</td>\n",
       "</tr>\n",
       "<tr>\n",
       "  <th>main_category_Art</th>          <td>    0.0545</td> <td>    0.011</td> <td>    4.843</td> <td> 0.000</td> <td>    0.032</td> <td>    0.077</td>\n",
       "</tr>\n",
       "<tr>\n",
       "  <th>main_category_Comics</th>       <td>    0.2578</td> <td>    0.019</td> <td>   13.882</td> <td> 0.000</td> <td>    0.221</td> <td>    0.294</td>\n",
       "</tr>\n",
       "<tr>\n",
       "  <th>main_category_Crafts</th>       <td>   -0.1076</td> <td>    0.019</td> <td>   -5.647</td> <td> 0.000</td> <td>   -0.145</td> <td>   -0.070</td>\n",
       "</tr>\n",
       "<tr>\n",
       "  <th>main_category_Dance</th>        <td>    0.2343</td> <td>    0.031</td> <td>    7.450</td> <td> 0.000</td> <td>    0.173</td> <td>    0.296</td>\n",
       "</tr>\n",
       "<tr>\n",
       "  <th>main_category_Design</th>       <td>    0.0408</td> <td>    0.012</td> <td>    3.515</td> <td> 0.000</td> <td>    0.018</td> <td>    0.064</td>\n",
       "</tr>\n",
       "<tr>\n",
       "  <th>main_category_Fashion</th>      <td>   -0.1027</td> <td>    0.012</td> <td>   -8.448</td> <td> 0.000</td> <td>   -0.126</td> <td>   -0.079</td>\n",
       "</tr>\n",
       "<tr>\n",
       "  <th>main_category_Film & Video</th> <td>    0.0692</td> <td>    0.008</td> <td>    8.348</td> <td> 0.000</td> <td>    0.053</td> <td>    0.085</td>\n",
       "</tr>\n",
       "<tr>\n",
       "  <th>main_category_Food</th>         <td>   -0.1712</td> <td>    0.014</td> <td>  -12.125</td> <td> 0.000</td> <td>   -0.199</td> <td>   -0.144</td>\n",
       "</tr>\n",
       "<tr>\n",
       "  <th>main_category_Games</th>        <td>    0.0085</td> <td>    0.010</td> <td>    0.844</td> <td> 0.399</td> <td>   -0.011</td> <td>    0.028</td>\n",
       "</tr>\n",
       "<tr>\n",
       "  <th>main_category_Journalism</th>   <td>   -0.1351</td> <td>    0.027</td> <td>   -4.997</td> <td> 0.000</td> <td>   -0.188</td> <td>   -0.082</td>\n",
       "</tr>\n",
       "<tr>\n",
       "  <th>main_category_Music</th>        <td>    0.1000</td> <td>    0.011</td> <td>    9.017</td> <td> 0.000</td> <td>    0.078</td> <td>    0.122</td>\n",
       "</tr>\n",
       "<tr>\n",
       "  <th>main_category_Photography</th>  <td>   -0.0447</td> <td>    0.016</td> <td>   -2.721</td> <td> 0.007</td> <td>   -0.077</td> <td>   -0.013</td>\n",
       "</tr>\n",
       "<tr>\n",
       "  <th>main_category_Publishing</th>   <td>   -0.0145</td> <td>    0.010</td> <td>   -1.385</td> <td> 0.166</td> <td>   -0.035</td> <td>    0.006</td>\n",
       "</tr>\n",
       "<tr>\n",
       "  <th>main_category_Technology</th>   <td>   -0.1840</td> <td>    0.011</td> <td>  -16.627</td> <td> 0.000</td> <td>   -0.206</td> <td>   -0.162</td>\n",
       "</tr>\n",
       "<tr>\n",
       "  <th>main_category_Theater</th>      <td>    0.3104</td> <td>    0.014</td> <td>   22.662</td> <td> 0.000</td> <td>    0.284</td> <td>    0.337</td>\n",
       "</tr>\n",
       "<tr>\n",
       "  <th>DurationBin_30</th>             <td>    0.0427</td> <td>    0.005</td> <td>    8.473</td> <td> 0.000</td> <td>    0.033</td> <td>    0.053</td>\n",
       "</tr>\n",
       "<tr>\n",
       "  <th>DurationBin_<30</th>            <td>    0.2089</td> <td>    0.006</td> <td>   34.281</td> <td> 0.000</td> <td>    0.197</td> <td>    0.221</td>\n",
       "</tr>\n",
       "<tr>\n",
       "  <th>DurationBin_>30</th>            <td>    0.0642</td> <td>    0.006</td> <td>   11.059</td> <td> 0.000</td> <td>    0.053</td> <td>    0.076</td>\n",
       "</tr>\n",
       "</table>\n",
       "<table class=\"simpletable\">\n",
       "<tr>\n",
       "  <th>Omnibus:</th>       <td>428.045</td> <th>  Durbin-Watson:     </th> <td>   2.010</td> \n",
       "</tr>\n",
       "<tr>\n",
       "  <th>Prob(Omnibus):</th> <td> 0.000</td>  <th>  Jarque-Bera (JB):  </th> <td> 793.589</td> \n",
       "</tr>\n",
       "<tr>\n",
       "  <th>Skew:</th>          <td> 0.150</td>  <th>  Prob(JB):          </th> <td>4.72e-173</td>\n",
       "</tr>\n",
       "<tr>\n",
       "  <th>Kurtosis:</th>      <td> 3.913</td>  <th>  Cond. No.          </th> <td>2.12e+22</td> \n",
       "</tr>\n",
       "</table>"
      ],
      "text/plain": [
       "<class 'statsmodels.iolib.summary.Summary'>\n",
       "\"\"\"\n",
       "                            OLS Regression Results                            \n",
       "==============================================================================\n",
       "Dep. Variable:                success   R-squared:                       0.123\n",
       "Model:                            OLS   Adj. R-squared:                  0.122\n",
       "Method:                 Least Squares   F-statistic:                     137.4\n",
       "Date:                Tue, 20 Mar 2018   Prob (F-statistic):               0.00\n",
       "Time:                        12:51:10   Log-Likelihood:                -13270.\n",
       "No. Observations:               20617   AIC:                         2.658e+04\n",
       "Df Residuals:                   20595   BIC:                         2.676e+04\n",
       "Df Model:                          21                                         \n",
       "Covariance Type:            nonrobust                                         \n",
       "==============================================================================================\n",
       "                                 coef    std err          t      P>|t|      [0.025      0.975]\n",
       "----------------------------------------------------------------------------------------------\n",
       "const                          0.3158      0.009     35.032      0.000       0.298       0.333\n",
       "backers                        0.0002   7.11e-06     29.158      0.000       0.000       0.000\n",
       "usd_goal_real              -4.952e-09   2.01e-09     -2.459      0.014    -8.9e-09      -1e-09\n",
       "launch_week_day               -0.0042      0.002     -2.230      0.026      -0.008      -0.001\n",
       "launch_month                  -0.0018      0.001     -1.898      0.058      -0.004    6.02e-05\n",
       "launch_hour                   -0.0002      0.001     -0.462      0.644      -0.001       0.001\n",
       "main_category_Art              0.0545      0.011      4.843      0.000       0.032       0.077\n",
       "main_category_Comics           0.2578      0.019     13.882      0.000       0.221       0.294\n",
       "main_category_Crafts          -0.1076      0.019     -5.647      0.000      -0.145      -0.070\n",
       "main_category_Dance            0.2343      0.031      7.450      0.000       0.173       0.296\n",
       "main_category_Design           0.0408      0.012      3.515      0.000       0.018       0.064\n",
       "main_category_Fashion         -0.1027      0.012     -8.448      0.000      -0.126      -0.079\n",
       "main_category_Film & Video     0.0692      0.008      8.348      0.000       0.053       0.085\n",
       "main_category_Food            -0.1712      0.014    -12.125      0.000      -0.199      -0.144\n",
       "main_category_Games            0.0085      0.010      0.844      0.399      -0.011       0.028\n",
       "main_category_Journalism      -0.1351      0.027     -4.997      0.000      -0.188      -0.082\n",
       "main_category_Music            0.1000      0.011      9.017      0.000       0.078       0.122\n",
       "main_category_Photography     -0.0447      0.016     -2.721      0.007      -0.077      -0.013\n",
       "main_category_Publishing      -0.0145      0.010     -1.385      0.166      -0.035       0.006\n",
       "main_category_Technology      -0.1840      0.011    -16.627      0.000      -0.206      -0.162\n",
       "main_category_Theater          0.3104      0.014     22.662      0.000       0.284       0.337\n",
       "DurationBin_30                 0.0427      0.005      8.473      0.000       0.033       0.053\n",
       "DurationBin_<30                0.2089      0.006     34.281      0.000       0.197       0.221\n",
       "DurationBin_>30                0.0642      0.006     11.059      0.000       0.053       0.076\n",
       "==============================================================================\n",
       "Omnibus:                      428.045   Durbin-Watson:                   2.010\n",
       "Prob(Omnibus):                  0.000   Jarque-Bera (JB):              793.589\n",
       "Skew:                           0.150   Prob(JB):                    4.72e-173\n",
       "Kurtosis:                       3.913   Cond. No.                     2.12e+22\n",
       "==============================================================================\n",
       "\n",
       "Warnings:\n",
       "[1] Standard Errors assume that the covariance matrix of the errors is correctly specified.\n",
       "[2] The smallest eigenvalue is 1.17e-28. This might indicate that there are\n",
       "strong multicollinearity problems or that the design matrix is singular.\n",
       "\"\"\""
      ]
     },
     "execution_count": 24,
     "metadata": {},
     "output_type": "execute_result"
    }
   ],
   "source": [
    "Xg = sm.add_constant(Xg_train)\n",
    "GBmodel = sm.OLS(Yg_train, Xg).fit()\n",
    "GBmodel.summary()"
   ]
  },
  {
   "cell_type": "markdown",
   "metadata": {},
   "source": [
    "From the coefficient results we can tell main_category of Theater, Dance, and Comics has higher positive significant influnce on success rate."
   ]
  },
  {
   "cell_type": "markdown",
   "metadata": {},
   "source": [
    "### Canada"
   ]
  },
  {
   "cell_type": "code",
   "execution_count": 25,
   "metadata": {
    "collapsed": true
   },
   "outputs": [],
   "source": [
    "# define X and Y for CA set\n",
    "Xc = ca_log.drop('success', axis=1)\n",
    "Yc = ca_log.success\n",
    "Xc_train, Xc_test, Yc_train, Yc_test = train_test_split(Xc,Yc,\n",
    "                                    test_size=.3,random_state=0)"
   ]
  },
  {
   "cell_type": "code",
   "execution_count": 26,
   "metadata": {},
   "outputs": [
    {
     "data": {
      "text/plain": [
       "LogisticRegression(C=100000.0, class_weight=None, dual=False,\n",
       "          fit_intercept=True, intercept_scaling=1, max_iter=100,\n",
       "          multi_class='ovr', n_jobs=1, penalty='l2', random_state=None,\n",
       "          solver='liblinear', tol=0.0001, verbose=0, warm_start=False)"
      ]
     },
     "execution_count": 26,
     "metadata": {},
     "output_type": "execute_result"
    },
    {
     "name": "stdout",
     "output_type": "stream",
     "text": [
      "***********\n",
      "('accuracy_score:', 0.9129614659121531)\n",
      "classification_report:\n",
      "             precision    recall  f1-score   support\n",
      "\n",
      "          0       0.92      0.96      0.94      2463\n",
      "          1       0.90      0.83      0.86      1248\n",
      "\n",
      "avg / total       0.91      0.91      0.91      3711\n",
      "\n",
      "confusion_matrix:\n",
      "[[2354  109]\n",
      " [ 214 1034]]\n"
     ]
    }
   ],
   "source": [
    "# train the logistic regression for CA set\n",
    "logistic = linear_model.LogisticRegression(C=1e5)\n",
    "logistic.fit(Xc_train,Yc_train)\n",
    "predCA = logistic.predict(Xc_test)\n",
    "print(\"***********\")\n",
    "print(\"accuracy_score:\", sk.metrics.accuracy_score(Yc_test, predCA, normalize=True))\n",
    "print(\"classification_report:\")\n",
    "print(sk.metrics.classification_report(Yc_test, predCA))\n",
    "print(\"confusion_matrix:\")\n",
    "print(sk.metrics.confusion_matrix(Yc_test, predCA))"
   ]
  },
  {
   "cell_type": "code",
   "execution_count": 27,
   "metadata": {},
   "outputs": [
    {
     "data": {
      "text/html": [
       "<table class=\"simpletable\">\n",
       "<caption>OLS Regression Results</caption>\n",
       "<tr>\n",
       "  <th>Dep. Variable:</th>         <td>success</td>     <th>  R-squared:         </th> <td>   0.107</td> \n",
       "</tr>\n",
       "<tr>\n",
       "  <th>Model:</th>                   <td>OLS</td>       <th>  Adj. R-squared:    </th> <td>   0.105</td> \n",
       "</tr>\n",
       "<tr>\n",
       "  <th>Method:</th>             <td>Least Squares</td>  <th>  F-statistic:       </th> <td>   49.18</td> \n",
       "</tr>\n",
       "<tr>\n",
       "  <th>Date:</th>             <td>Tue, 20 Mar 2018</td> <th>  Prob (F-statistic):</th> <td>2.72e-193</td>\n",
       "</tr>\n",
       "<tr>\n",
       "  <th>Time:</th>                 <td>12:51:10</td>     <th>  Log-Likelihood:    </th> <td> -5285.4</td> \n",
       "</tr>\n",
       "<tr>\n",
       "  <th>No. Observations:</th>      <td>  8659</td>      <th>  AIC:               </th> <td>1.061e+04</td>\n",
       "</tr>\n",
       "<tr>\n",
       "  <th>Df Residuals:</th>          <td>  8637</td>      <th>  BIC:               </th> <td>1.077e+04</td>\n",
       "</tr>\n",
       "<tr>\n",
       "  <th>Df Model:</th>              <td>    21</td>      <th>                     </th>     <td> </td>    \n",
       "</tr>\n",
       "<tr>\n",
       "  <th>Covariance Type:</th>      <td>nonrobust</td>    <th>                     </th>     <td> </td>    \n",
       "</tr>\n",
       "</table>\n",
       "<table class=\"simpletable\">\n",
       "<tr>\n",
       "               <td></td>                 <th>coef</th>     <th>std err</th>      <th>t</th>      <th>P>|t|</th>  <th>[0.025</th>    <th>0.975]</th>  \n",
       "</tr>\n",
       "<tr>\n",
       "  <th>const</th>                      <td>    0.2513</td> <td>    0.012</td> <td>   20.335</td> <td> 0.000</td> <td>    0.227</td> <td>    0.276</td>\n",
       "</tr>\n",
       "<tr>\n",
       "  <th>backers</th>                    <td>    0.0003</td> <td> 1.06e-05</td> <td>   23.627</td> <td> 0.000</td> <td>    0.000</td> <td>    0.000</td>\n",
       "</tr>\n",
       "<tr>\n",
       "  <th>usd_goal_real</th>              <td>-1.041e-08</td> <td> 4.91e-09</td> <td>   -2.121</td> <td> 0.034</td> <td>   -2e-08</td> <td>-7.88e-10</td>\n",
       "</tr>\n",
       "<tr>\n",
       "  <th>launch_week_day</th>            <td>   -0.0040</td> <td>    0.003</td> <td>   -1.410</td> <td> 0.159</td> <td>   -0.010</td> <td>    0.002</td>\n",
       "</tr>\n",
       "<tr>\n",
       "  <th>launch_month</th>               <td>    0.0015</td> <td>    0.001</td> <td>    1.035</td> <td> 0.301</td> <td>   -0.001</td> <td>    0.004</td>\n",
       "</tr>\n",
       "<tr>\n",
       "  <th>launch_hour</th>                <td>    0.0002</td> <td>    0.001</td> <td>    0.361</td> <td> 0.718</td> <td>   -0.001</td> <td>    0.001</td>\n",
       "</tr>\n",
       "<tr>\n",
       "  <th>main_category_Art</th>          <td>    0.0092</td> <td>    0.018</td> <td>    0.515</td> <td> 0.606</td> <td>   -0.026</td> <td>    0.044</td>\n",
       "</tr>\n",
       "<tr>\n",
       "  <th>main_category_Comics</th>       <td>    0.2709</td> <td>    0.024</td> <td>   11.259</td> <td> 0.000</td> <td>    0.224</td> <td>    0.318</td>\n",
       "</tr>\n",
       "<tr>\n",
       "  <th>main_category_Crafts</th>       <td>   -0.0346</td> <td>    0.028</td> <td>   -1.250</td> <td> 0.211</td> <td>   -0.089</td> <td>    0.020</td>\n",
       "</tr>\n",
       "<tr>\n",
       "  <th>main_category_Dance</th>        <td>    0.0914</td> <td>    0.056</td> <td>    1.629</td> <td> 0.103</td> <td>   -0.019</td> <td>    0.201</td>\n",
       "</tr>\n",
       "<tr>\n",
       "  <th>main_category_Design</th>       <td>    0.0300</td> <td>    0.016</td> <td>    1.836</td> <td> 0.066</td> <td>   -0.002</td> <td>    0.062</td>\n",
       "</tr>\n",
       "<tr>\n",
       "  <th>main_category_Fashion</th>      <td>    0.0031</td> <td>    0.018</td> <td>    0.175</td> <td> 0.861</td> <td>   -0.032</td> <td>    0.038</td>\n",
       "</tr>\n",
       "<tr>\n",
       "  <th>main_category_Film & Video</th> <td>    0.0118</td> <td>    0.014</td> <td>    0.815</td> <td> 0.415</td> <td>   -0.017</td> <td>    0.040</td>\n",
       "</tr>\n",
       "<tr>\n",
       "  <th>main_category_Food</th>         <td>   -0.1179</td> <td>    0.018</td> <td>   -6.464</td> <td> 0.000</td> <td>   -0.154</td> <td>   -0.082</td>\n",
       "</tr>\n",
       "<tr>\n",
       "  <th>main_category_Games</th>        <td>   -0.0480</td> <td>    0.015</td> <td>   -3.242</td> <td> 0.001</td> <td>   -0.077</td> <td>   -0.019</td>\n",
       "</tr>\n",
       "<tr>\n",
       "  <th>main_category_Journalism</th>   <td>   -0.1176</td> <td>    0.038</td> <td>   -3.101</td> <td> 0.002</td> <td>   -0.192</td> <td>   -0.043</td>\n",
       "</tr>\n",
       "<tr>\n",
       "  <th>main_category_Music</th>        <td>    0.1298</td> <td>    0.017</td> <td>    7.686</td> <td> 0.000</td> <td>    0.097</td> <td>    0.163</td>\n",
       "</tr>\n",
       "<tr>\n",
       "  <th>main_category_Photography</th>  <td>   -0.0424</td> <td>    0.028</td> <td>   -1.503</td> <td> 0.133</td> <td>   -0.098</td> <td>    0.013</td>\n",
       "</tr>\n",
       "<tr>\n",
       "  <th>main_category_Publishing</th>   <td>   -0.0234</td> <td>    0.015</td> <td>   -1.530</td> <td> 0.126</td> <td>   -0.053</td> <td>    0.007</td>\n",
       "</tr>\n",
       "<tr>\n",
       "  <th>main_category_Technology</th>   <td>   -0.1265</td> <td>    0.014</td> <td>   -8.790</td> <td> 0.000</td> <td>   -0.155</td> <td>   -0.098</td>\n",
       "</tr>\n",
       "<tr>\n",
       "  <th>main_category_Theater</th>      <td>    0.2154</td> <td>    0.039</td> <td>    5.477</td> <td> 0.000</td> <td>    0.138</td> <td>    0.292</td>\n",
       "</tr>\n",
       "<tr>\n",
       "  <th>DurationBin_30</th>             <td>    0.0452</td> <td>    0.007</td> <td>    6.054</td> <td> 0.000</td> <td>    0.031</td> <td>    0.060</td>\n",
       "</tr>\n",
       "<tr>\n",
       "  <th>DurationBin_<30</th>            <td>    0.1583</td> <td>    0.010</td> <td>   15.570</td> <td> 0.000</td> <td>    0.138</td> <td>    0.178</td>\n",
       "</tr>\n",
       "<tr>\n",
       "  <th>DurationBin_>30</th>            <td>    0.0479</td> <td>    0.008</td> <td>    6.058</td> <td> 0.000</td> <td>    0.032</td> <td>    0.063</td>\n",
       "</tr>\n",
       "</table>\n",
       "<table class=\"simpletable\">\n",
       "<tr>\n",
       "  <th>Omnibus:</th>       <td>1338.772</td> <th>  Durbin-Watson:     </th> <td>   1.995</td> \n",
       "</tr>\n",
       "<tr>\n",
       "  <th>Prob(Omnibus):</th>  <td> 0.000</td>  <th>  Jarque-Bera (JB):  </th> <td> 793.669</td> \n",
       "</tr>\n",
       "<tr>\n",
       "  <th>Skew:</th>           <td> 0.612</td>  <th>  Prob(JB):          </th> <td>4.54e-173</td>\n",
       "</tr>\n",
       "<tr>\n",
       "  <th>Kurtosis:</th>       <td> 2.162</td>  <th>  Cond. No.          </th> <td>1.05e+22</td> \n",
       "</tr>\n",
       "</table>"
      ],
      "text/plain": [
       "<class 'statsmodels.iolib.summary.Summary'>\n",
       "\"\"\"\n",
       "                            OLS Regression Results                            \n",
       "==============================================================================\n",
       "Dep. Variable:                success   R-squared:                       0.107\n",
       "Model:                            OLS   Adj. R-squared:                  0.105\n",
       "Method:                 Least Squares   F-statistic:                     49.18\n",
       "Date:                Tue, 20 Mar 2018   Prob (F-statistic):          2.72e-193\n",
       "Time:                        12:51:10   Log-Likelihood:                -5285.4\n",
       "No. Observations:                8659   AIC:                         1.061e+04\n",
       "Df Residuals:                    8637   BIC:                         1.077e+04\n",
       "Df Model:                          21                                         \n",
       "Covariance Type:            nonrobust                                         \n",
       "==============================================================================================\n",
       "                                 coef    std err          t      P>|t|      [0.025      0.975]\n",
       "----------------------------------------------------------------------------------------------\n",
       "const                          0.2513      0.012     20.335      0.000       0.227       0.276\n",
       "backers                        0.0003   1.06e-05     23.627      0.000       0.000       0.000\n",
       "usd_goal_real              -1.041e-08   4.91e-09     -2.121      0.034      -2e-08   -7.88e-10\n",
       "launch_week_day               -0.0040      0.003     -1.410      0.159      -0.010       0.002\n",
       "launch_month                   0.0015      0.001      1.035      0.301      -0.001       0.004\n",
       "launch_hour                    0.0002      0.001      0.361      0.718      -0.001       0.001\n",
       "main_category_Art              0.0092      0.018      0.515      0.606      -0.026       0.044\n",
       "main_category_Comics           0.2709      0.024     11.259      0.000       0.224       0.318\n",
       "main_category_Crafts          -0.0346      0.028     -1.250      0.211      -0.089       0.020\n",
       "main_category_Dance            0.0914      0.056      1.629      0.103      -0.019       0.201\n",
       "main_category_Design           0.0300      0.016      1.836      0.066      -0.002       0.062\n",
       "main_category_Fashion          0.0031      0.018      0.175      0.861      -0.032       0.038\n",
       "main_category_Film & Video     0.0118      0.014      0.815      0.415      -0.017       0.040\n",
       "main_category_Food            -0.1179      0.018     -6.464      0.000      -0.154      -0.082\n",
       "main_category_Games           -0.0480      0.015     -3.242      0.001      -0.077      -0.019\n",
       "main_category_Journalism      -0.1176      0.038     -3.101      0.002      -0.192      -0.043\n",
       "main_category_Music            0.1298      0.017      7.686      0.000       0.097       0.163\n",
       "main_category_Photography     -0.0424      0.028     -1.503      0.133      -0.098       0.013\n",
       "main_category_Publishing      -0.0234      0.015     -1.530      0.126      -0.053       0.007\n",
       "main_category_Technology      -0.1265      0.014     -8.790      0.000      -0.155      -0.098\n",
       "main_category_Theater          0.2154      0.039      5.477      0.000       0.138       0.292\n",
       "DurationBin_30                 0.0452      0.007      6.054      0.000       0.031       0.060\n",
       "DurationBin_<30                0.1583      0.010     15.570      0.000       0.138       0.178\n",
       "DurationBin_>30                0.0479      0.008      6.058      0.000       0.032       0.063\n",
       "==============================================================================\n",
       "Omnibus:                     1338.772   Durbin-Watson:                   1.995\n",
       "Prob(Omnibus):                  0.000   Jarque-Bera (JB):              793.669\n",
       "Skew:                           0.612   Prob(JB):                    4.54e-173\n",
       "Kurtosis:                       2.162   Cond. No.                     1.05e+22\n",
       "==============================================================================\n",
       "\n",
       "Warnings:\n",
       "[1] Standard Errors assume that the covariance matrix of the errors is correctly specified.\n",
       "[2] The smallest eigenvalue is 7.5e-29. This might indicate that there are\n",
       "strong multicollinearity problems or that the design matrix is singular.\n",
       "\"\"\""
      ]
     },
     "execution_count": 27,
     "metadata": {},
     "output_type": "execute_result"
    }
   ],
   "source": [
    "Xc = sm.add_constant(Xc_train)\n",
    "CAmodel = sm.OLS(Yc_train, Xc).fit()\n",
    "CAmodel.summary()"
   ]
  },
  {
   "cell_type": "markdown",
   "metadata": {},
   "source": [
    "From the coefficient results we can tell main_category of Theater and Comics has higher positive significant influnce on success rate."
   ]
  },
  {
   "cell_type": "markdown",
   "metadata": {},
   "source": [
    "## Finding #1"
   ]
  },
  {
   "cell_type": "markdown",
   "metadata": {},
   "source": [
    "The results shows that the success rate of different main categories varies between companies based in different countries. <ul>\n",
    " <li>Companies that are based in the US, the success rate of 'Music', 'Food', 'Games', 'Art', 'Technology', 'Dance', and 'Journalism' are higher than the other two countries. \n",
    " <li>Companies that are based in Great Britain, the success rate of 'Publishing', 'Film&Video', 'Design', 'Comics', 'Theater', and 'Photography' are higher than the other two countries.\n",
    " <li>Companies that are based in Canada, the success rate of 'Crafts', and 'Fashion' are higher than the other two countries. </ul>\n",
    "<ul>\n",
    "</ul>\n",
    "Among those with success rate higher than 0.5, some highlights will be US companies in Music category, Great Britain companies in Comics category, Great Britain companies in Theater category, and US companies in Dance category."
   ]
  },
  {
   "cell_type": "code",
   "execution_count": 28,
   "metadata": {
    "scrolled": false
   },
   "outputs": [
    {
     "data": {
      "text/plain": [
       "<seaborn.axisgrid.FacetGrid at 0x19ab1e80>"
      ]
     },
     "execution_count": 28,
     "metadata": {},
     "output_type": "execute_result"
    },
    {
     "data": {
      "image/png": "[encoded data removed]",
      "text/plain": [
       "<matplotlib.figure.Figure at 0x164b49e8>"
      ]
     },
     "metadata": {},
     "output_type": "display_data"
    }
   ],
   "source": [
    "sns.factorplot(x='main_category',y='success',kind='bar', hue='country',data=ks,aspect=4)"
   ]
  },
  {
   "cell_type": "markdown",
   "metadata": {},
   "source": [
    "## Managerial Insights #1"
   ]
  },
  {
   "cell_type": "markdown",
   "metadata": {},
   "source": [
    "As managerial insights for the investors, based on the findings above, you should invest in the following types of companies, which have higher success rate on the kickstarter platform:\n",
    "<li>US companies in Music category\n",
    "<li>Great Britain companies in Comics category\n",
    "<li>Great Britain companies in Theater category\n",
    "<li>US companies in Dance category"
   ]
  },
  {
   "cell_type": "markdown",
   "metadata": {},
   "source": [
    "   "
   ]
  },
  {
   "cell_type": "markdown",
   "metadata": {
    "collapsed": true
   },
   "source": [
    "# Decision Tree Regression"
   ]
  },
  {
   "cell_type": "markdown",
   "metadata": {},
   "source": [
    "Now we'll use a decision tree regression to see which variables best predict the likelihood of campaign success."
   ]
  },
  {
   "cell_type": "code",
   "execution_count": 29,
   "metadata": {
    "collapsed": true
   },
   "outputs": [],
   "source": [
    "us_tree = dumks[dumks.country == 'US'].drop(['usd_pledged_real','country'],axis=1)\n",
    "gb_tree = dumks[dumks.country == 'GB'].drop(['usd_pledged_real','country'],axis=1)\n",
    "ca_tree = dumks[dumks.country == 'CA'].drop(['usd_pledged_real','country'],axis=1)"
   ]
  },
  {
   "cell_type": "markdown",
   "metadata": {},
   "source": [
    "### United States"
   ]
  },
  {
   "cell_type": "code",
   "execution_count": 30,
   "metadata": {},
   "outputs": [
    {
     "data": {
      "text/plain": [
       "DecisionTreeClassifier(class_weight=None, criterion='gini', max_depth=2,\n",
       "            max_features=None, max_leaf_nodes=None,\n",
       "            min_impurity_decrease=0.0, min_impurity_split=None,\n",
       "            min_samples_leaf=1, min_samples_split=2,\n",
       "            min_weight_fraction_leaf=0.0, presort=False, random_state=None,\n",
       "            splitter='best')"
      ]
     },
     "execution_count": 30,
     "metadata": {},
     "output_type": "execute_result"
    }
   ],
   "source": [
    "# define X and Y for US set\n",
    "Xu = us_tree.drop('success', axis=1)\n",
    "Yu = us_tree.success\n",
    "dt=tree.DecisionTreeClassifier(max_depth=2)\n",
    "dt.fit(Xu,Yu)"
   ]
  },
  {
   "cell_type": "code",
   "execution_count": 31,
   "metadata": {
    "scrolled": true
   },
   "outputs": [
    {
     "data": {
      "image/png": "[encoded data removed]",
      "text/plain": [
       "<IPython.core.display.Image object>"
      ]
     },
     "execution_count": 31,
     "metadata": {},
     "output_type": "execute_result"
    }
   ],
   "source": [
    "dt_feature_names = list(Xu.columns)\n",
    "dt_target_names = np.array(Yu.unique(),dtype=np.string_) \n",
    "tree.export_graphviz(dt, out_file='tree.dot', \n",
    "    feature_names=dt_feature_names, class_names=dt_target_names,\n",
    "    filled=True)  \n",
    "graph = pydotplus.graph_from_dot_file('tree.dot')\n",
    "Image(graph.create_png())"
   ]
  },
  {
   "cell_type": "markdown",
   "metadata": {},
   "source": [
    "### Great Britain"
   ]
  },
  {
   "cell_type": "code",
   "execution_count": 32,
   "metadata": {},
   "outputs": [
    {
     "data": {
      "text/plain": [
       "DecisionTreeClassifier(class_weight=None, criterion='gini', max_depth=2,\n",
       "            max_features=None, max_leaf_nodes=None,\n",
       "            min_impurity_decrease=0.0, min_impurity_split=None,\n",
       "            min_samples_leaf=1, min_samples_split=2,\n",
       "            min_weight_fraction_leaf=0.0, presort=False, random_state=None,\n",
       "            splitter='best')"
      ]
     },
     "execution_count": 32,
     "metadata": {},
     "output_type": "execute_result"
    }
   ],
   "source": [
    "# define X and Y for GB set\n",
    "Xg = gb_tree.drop('success', axis=1)\n",
    "Yg = gb_tree.success\n",
    "dt=tree.DecisionTreeClassifier(max_depth=2)\n",
    "dt.fit(Xg,Yg)"
   ]
  },
  {
   "cell_type": "code",
   "execution_count": 33,
   "metadata": {
    "scrolled": true
   },
   "outputs": [
    {
     "data": {
      "image/png": "[encoded data removed]",
      "text/plain": [
       "<IPython.core.display.Image object>"
      ]
     },
     "execution_count": 33,
     "metadata": {},
     "output_type": "execute_result"
    }
   ],
   "source": [
    "dt_feature_names = list(Xg.columns)\n",
    "dt_target_names = np.array(Yg.unique(),dtype=np.string_) \n",
    "tree.export_graphviz(dt, out_file='tree.dot', \n",
    "    feature_names=dt_feature_names, class_names=dt_target_names,\n",
    "    filled=True)  \n",
    "graph = pydotplus.graph_from_dot_file('tree.dot')\n",
    "Image(graph.create_png())"
   ]
  },
  {
   "cell_type": "markdown",
   "metadata": {},
   "source": [
    "### Canada"
   ]
  },
  {
   "cell_type": "code",
   "execution_count": 34,
   "metadata": {},
   "outputs": [
    {
     "data": {
      "text/plain": [
       "DecisionTreeClassifier(class_weight=None, criterion='gini', max_depth=2,\n",
       "            max_features=None, max_leaf_nodes=None,\n",
       "            min_impurity_decrease=0.0, min_impurity_split=None,\n",
       "            min_samples_leaf=1, min_samples_split=2,\n",
       "            min_weight_fraction_leaf=0.0, presort=False, random_state=None,\n",
       "            splitter='best')"
      ]
     },
     "execution_count": 34,
     "metadata": {},
     "output_type": "execute_result"
    }
   ],
   "source": [
    "# define X and Y for CA set\n",
    "Xc = ca_tree.drop('success', axis=1)\n",
    "Yc = ca_tree.success\n",
    "dt=tree.DecisionTreeClassifier(max_depth=2)\n",
    "dt.fit(Xc,Yc)"
   ]
  },
  {
   "cell_type": "code",
   "execution_count": 35,
   "metadata": {
    "scrolled": false
   },
   "outputs": [
    {
     "data": {
      "image/png": "[encoded data removed]",
      "text/plain": [
       "<IPython.core.display.Image object>"
      ]
     },
     "execution_count": 35,
     "metadata": {},
     "output_type": "execute_result"
    }
   ],
   "source": [
    "dt_feature_names = list(Xc.columns)\n",
    "dt_target_names = np.array(Yc.unique(),dtype=np.string_) \n",
    "tree.export_graphviz(dt, out_file='tree.dot', \n",
    "    feature_names=dt_feature_names, class_names=dt_target_names,\n",
    "    filled=True)  \n",
    "graph = pydotplus.graph_from_dot_file('tree.dot')\n",
    "Image(graph.create_png())"
   ]
  },
  {
   "cell_type": "markdown",
   "metadata": {},
   "source": [
    "### Verifying with Logisitic Regression"
   ]
  },
  {
   "cell_type": "markdown",
   "metadata": {},
   "source": [
    "Our previous logistic regression showed accuracy rates of around 90% across all three countries with the backers variable included. Let's see how accurate the predictions are when backers aren't included."
   ]
  },
  {
   "cell_type": "code",
   "execution_count": 36,
   "metadata": {},
   "outputs": [],
   "source": [
    "# define X and Y for whole dataset\n",
    "KSreg = dumks.drop(['country','usd_pledged_real'],axis=1)\n",
    "Xk1 = KSreg.drop(['success','backers'], axis=1)\n",
    "Yk1 = KSreg.success\n",
    "Xk1_train, Xk1_test, Yk1_train, Yk1_test = train_test_split(Xk1,Yk1,\n",
    "                                    test_size=.3,random_state=0)"
   ]
  },
  {
   "cell_type": "code",
   "execution_count": 37,
   "metadata": {
    "scrolled": false
   },
   "outputs": [
    {
     "data": {
      "text/plain": [
       "LogisticRegression(C=100000.0, class_weight=None, dual=False,\n",
       "          fit_intercept=True, intercept_scaling=1, max_iter=100,\n",
       "          multi_class='ovr', n_jobs=1, penalty='l2', random_state=None,\n",
       "          solver='liblinear', tol=0.0001, verbose=0, warm_start=False)"
      ]
     },
     "execution_count": 37,
     "metadata": {},
     "output_type": "execute_result"
    },
    {
     "name": "stdout",
     "output_type": "stream",
     "text": [
      "***********\n",
      "('accuracy_score:', 0.58800505744598974)\n",
      "classification_report:\n",
      "             precision    recall  f1-score   support\n",
      "\n",
      "          0       0.59      1.00      0.74     53482\n",
      "          1       0.00      0.00      0.00     37473\n",
      "\n",
      "avg / total       0.35      0.59      0.44     90955\n",
      "\n",
      "confusion_matrix:\n",
      "[[53482     0]\n",
      " [37473     0]]\n"
     ]
    }
   ],
   "source": [
    "# train the logistic regression for All\n",
    "logistic = linear_model.LogisticRegression(C=1e5)\n",
    "logistic.fit(Xk1_train,Yk1_train)\n",
    "predKS1 = logistic.predict(Xk1_test)\n",
    "print(\"***********\")\n",
    "print(\"accuracy_score:\", sk.metrics.accuracy_score(Yk1_test, predKS1, normalize=True))\n",
    "print(\"classification_report:\")\n",
    "print(sk.metrics.classification_report(Yk1_test, predKS1))\n",
    "print(\"confusion_matrix:\")\n",
    "print(sk.metrics.confusion_matrix(Yk1_test, predKS1))"
   ]
  },
  {
   "cell_type": "markdown",
   "metadata": {},
   "source": [
    "We see that without the backers variable, the model just guesses that all campaigns fail."
   ]
  },
  {
   "cell_type": "markdown",
   "metadata": {},
   "source": [
    "## Finding #2"
   ]
  },
  {
   "cell_type": "markdown",
   "metadata": {},
   "source": [
    "According to the decision tree, the number of backers and the fundraising goal of a project are the strongest indicators of whether or not it will succeed. Projects with many backers and a smaller goal amount are more likely to succeed. Overall, these predictors are quite effective. However, they don't hold true when comparing fashion and theater categories."
   ]
  },
  {
   "cell_type": "markdown",
   "metadata": {
    "collapsed": true
   },
   "source": [
    "Fashion has a significantly lower success rate than theater despite better stats in key indicators."
   ]
  },
  {
   "cell_type": "code",
   "execution_count": 39,
   "metadata": {
    "collapsed": true
   },
   "outputs": [],
   "source": [
    "df2=ks.copy()\n",
    "df2=df2[(df2.main_category=='Fashion')|(df2.main_category=='Theater')]"
   ]
  },
  {
   "cell_type": "markdown",
   "metadata": {},
   "source": [
    "Projects in the two categories on average set similar goals."
   ]
  },
  {
   "cell_type": "code",
   "execution_count": 40,
   "metadata": {},
   "outputs": [
    {
     "data": {
      "text/plain": [
       "main_category\n",
       "Fashion             21,147.732\n",
       "Theater             20,763.406\n",
       "Name: usd_goal_real, dtype: float64"
      ]
     },
     "execution_count": 40,
     "metadata": {},
     "output_type": "execute_result"
    },
    {
     "data": {
      "text/plain": [
       "<seaborn.axisgrid.FacetGrid at 0x2872b7b8>"
      ]
     },
     "execution_count": 40,
     "metadata": {},
     "output_type": "execute_result"
    },
    {
     "data": {
      "image/png": "[encoded data removed]",
      "text/plain": [
       "<matplotlib.figure.Figure at 0x2872f080>"
      ]
     },
     "metadata": {},
     "output_type": "display_data"
    }
   ],
   "source": [
    "df2.groupby('main_category').usd_goal_real.mean().sort_values(ascending=False)\n",
    "sns.factorplot(x='main_category',y='usd_goal_real', col='country', data=df2,kind='bar',ci=None)"
   ]
  },
  {
   "cell_type": "markdown",
   "metadata": {},
   "source": [
    "Fashion projects typically have more backers, which should be a positive thing."
   ]
  },
  {
   "cell_type": "code",
   "execution_count": 41,
   "metadata": {},
   "outputs": [
    {
     "data": {
      "text/plain": [
       "main_category\n",
       "Fashion                 70.064\n",
       "Theater                 49.906\n",
       "Name: backers, dtype: float64"
      ]
     },
     "execution_count": 41,
     "metadata": {},
     "output_type": "execute_result"
    },
    {
     "data": {
      "text/plain": [
       "<seaborn.axisgrid.FacetGrid at 0x2b06bd30>"
      ]
     },
     "execution_count": 41,
     "metadata": {},
     "output_type": "execute_result"
    },
    {
     "data": {
      "image/png": "[encoded data removed]",
      "text/plain": [
       "<matplotlib.figure.Figure at 0x3bf32860>"
      ]
     },
     "metadata": {},
     "output_type": "display_data"
    }
   ],
   "source": [
    "df2.groupby('main_category').backers.mean().sort_values(ascending=False)\n",
    "sns.factorplot(x='main_category',y='backers',col='country',data=df2,kind='bar',ci=None)"
   ]
  },
  {
   "cell_type": "markdown",
   "metadata": {},
   "source": [
    "However, theater projects have a success rate more than twice that of fashion projects."
   ]
  },
  {
   "cell_type": "code",
   "execution_count": 42,
   "metadata": {
    "scrolled": true
   },
   "outputs": [
    {
     "data": {
      "text/plain": [
       "main_category\n",
       "Theater                  0.645\n",
       "Fashion                  0.286\n",
       "Name: success, dtype: float64"
      ]
     },
     "execution_count": 42,
     "metadata": {},
     "output_type": "execute_result"
    },
    {
     "data": {
      "text/plain": [
       "<seaborn.axisgrid.FacetGrid at 0x28726c18>"
      ]
     },
     "execution_count": 42,
     "metadata": {},
     "output_type": "execute_result"
    },
    {
     "data": {
      "image/png": "[encoded data removed]",
      "text/plain": [
       "<matplotlib.figure.Figure at 0x2872b400>"
      ]
     },
     "metadata": {},
     "output_type": "display_data"
    }
   ],
   "source": [
    "df2.groupby('main_category').success.mean().sort_values(ascending=False)\n",
    "sns.factorplot(x='main_category',y='success', col='country',data=df2,kind='bar',ci=None)"
   ]
  },
  {
   "cell_type": "markdown",
   "metadata": {},
   "source": [
    "   "
   ]
  },
  {
   "cell_type": "markdown",
   "metadata": {},
   "source": [
    "## Managerial Insights #2"
   ]
  },
  {
   "cell_type": "markdown",
   "metadata": {},
   "source": [
    "There are a variety of reasons that could explain why this occurs. Perhaps the fashion projects need to do a better job of describing and advertising their products. It could also be the case that the rewards are not enticing enough to convince backers that are unsure about investing. These are areas the project owner could look to improve on. Receiving better information or rewards could push investors to pledge more money, leading to a successful project. Attracting backers is not the issue, rather it is finding a way to get the backers to donate larger amounts."
   ]
  },
  {
   "cell_type": "markdown",
   "metadata": {},
   "source": [
    "# Lasso Regression"
   ]
  },
  {
   "cell_type": "markdown",
   "metadata": {},
   "source": [
    "We've previously seen that the number of backers supporting a campaign is the clearest predicter of whether that campaign is successful or not. So what to do if you are considering launching a new kickstarter campaign? How can you maximize the odds for success? Which factors of a campaign bring in the most backers?"
   ]
  },
  {
   "cell_type": "code",
   "execution_count": 43,
   "metadata": {
    "collapsed": true
   },
   "outputs": [],
   "source": [
    "dumks = pd.get_dummies(ks, columns=['main_category','launch_week_day','launch_hour','launch_month'])\n",
    "dumks.drop(['ID','name','category','deadline','launched','usd_pledged_real','DurationBin'],axis=1,inplace=True)"
   ]
  },
  {
   "cell_type": "code",
   "execution_count": 44,
   "metadata": {
    "collapsed": true
   },
   "outputs": [],
   "source": [
    "KSreg = dumks.drop(['country'],axis=1)\n",
    "USreg = dumks[dumks.country == 'US'].drop(['country'],axis=1)\n",
    "GBreg = dumks[dumks.country == 'GB'].drop(['country'],axis=1)\n",
    "CAreg = dumks[dumks.country == 'CA'].drop(['country'],axis=1)"
   ]
  },
  {
   "cell_type": "code",
   "execution_count": 45,
   "metadata": {},
   "outputs": [],
   "source": [
    "# define X for all where Y = backers\n",
    "Xk2 = KSreg.drop(['success','backers'], axis=1)\n",
    "Yk2 = KSreg.backers\n",
    "Xk2_train, Xk2_test, Yk2_train, Yk2_test = train_test_split(Xk2,Yk2,\n",
    "                                    test_size=.3,random_state=0)"
   ]
  },
  {
   "cell_type": "code",
   "execution_count": 46,
   "metadata": {},
   "outputs": [
    {
     "data": {
      "text/plain": [
       "Lasso(alpha=1.0, copy_X=True, fit_intercept=True, max_iter=1000,\n",
       "   normalize=False, positive=False, precompute=False, random_state=None,\n",
       "   selection='cyclic', tol=0.0001, warm_start=False)"
      ]
     },
     "execution_count": 46,
     "metadata": {},
     "output_type": "execute_result"
    },
    {
     "data": {
      "text/plain": [
       "duration                                    0.287\n",
       "launch_hour_0                             -12.919\n",
       "launch_hour_1                              -8.642\n",
       "launch_hour_13                             40.630\n",
       "launch_hour_14                             91.322\n",
       "launch_hour_15                             92.736\n",
       "launch_hour_16                             56.665\n",
       "launch_hour_17                             30.134\n",
       "launch_hour_18                             20.142\n",
       "launch_hour_2                              -1.221\n",
       "launch_hour_22                             -9.785\n",
       "launch_hour_23                            -20.388\n",
       "launch_hour_3                              -5.401\n",
       "launch_hour_4                              -9.254\n",
       "launch_month_12                           -14.106\n",
       "launch_month_5                              1.094\n",
       "launch_week_day_0                          -1.809\n",
       "launch_week_day_1                           9.898\n",
       "launch_week_day_2                          59.453\n",
       "launch_week_day_3                          16.366\n",
       "launch_week_day_5                         -12.214\n",
       "launch_week_day_6                         -23.004\n",
       "main_category_Art                          -6.481\n",
       "main_category_Comics                       46.440\n",
       "main_category_Design                      196.978\n",
       "main_category_Film & Video                  2.804\n",
       "main_category_Games                       324.834\n",
       "main_category_Technology                  120.872\n",
       "usd_goal_real                               0.000\n",
       "dtype: float64"
      ]
     },
     "execution_count": 46,
     "metadata": {},
     "output_type": "execute_result"
    }
   ],
   "source": [
    "# train the Lasso for All\n",
    "regLasso = linear_model.Lasso()\n",
    "regLasso.fit(Xk2,Yk2)\n",
    "ksL = pd.Series({Xk2.columns[i] : regLasso.coef_[i]\n",
    "               for i in range(0,len(Xk2.columns))} )\n",
    "ksL[ksL != 0]"
   ]
  },
  {
   "cell_type": "markdown",
   "metadata": {},
   "source": [
    "### United States"
   ]
  },
  {
   "cell_type": "code",
   "execution_count": 47,
   "metadata": {
    "collapsed": true
   },
   "outputs": [],
   "source": [
    "# define X for US set where Y = backers\n",
    "Xu2 = USreg.drop(['backers','success'], axis=1)\n",
    "Yu2 = USreg.backers\n",
    "Xu2_train, Xu2_test, Yu2_train, Yu2_test = train_test_split(Xu2,Yu2,\n",
    "                                    test_size=.3,random_state=0)"
   ]
  },
  {
   "cell_type": "code",
   "execution_count": 48,
   "metadata": {},
   "outputs": [
    {
     "data": {
      "text/plain": [
       "Lasso(alpha=1.0, copy_X=True, fit_intercept=True, max_iter=1000,\n",
       "   normalize=False, positive=False, precompute=False, random_state=None,\n",
       "   selection='cyclic', tol=0.0001, warm_start=False)"
      ]
     },
     "execution_count": 48,
     "metadata": {},
     "output_type": "execute_result"
    },
    {
     "data": {
      "text/plain": [
       "duration                                    0.203\n",
       "launch_hour_0                             -15.222\n",
       "launch_hour_1                             -15.025\n",
       "launch_hour_13                             65.483\n",
       "launch_hour_14                            113.159\n",
       "launch_hour_15                            109.489\n",
       "launch_hour_16                             62.779\n",
       "launch_hour_17                             30.543\n",
       "launch_hour_18                             20.996\n",
       "launch_hour_19                              3.201\n",
       "launch_hour_2                              -6.512\n",
       "launch_hour_22                             -8.983\n",
       "launch_hour_23                            -21.188\n",
       "launch_hour_3                              -9.776\n",
       "launch_hour_4                             -15.677\n",
       "launch_month_12                           -12.607\n",
       "launch_month_5                              1.264\n",
       "launch_week_day_0                          -2.120\n",
       "launch_week_day_1                           9.843\n",
       "launch_week_day_2                          63.918\n",
       "launch_week_day_3                          17.336\n",
       "launch_week_day_5                         -15.988\n",
       "launch_week_day_6                         -23.589\n",
       "main_category_Art                          -7.518\n",
       "main_category_Comics                       48.521\n",
       "main_category_Design                      210.887\n",
       "main_category_Film & Video                  4.713\n",
       "main_category_Games                       354.328\n",
       "main_category_Technology                  133.230\n",
       "usd_goal_real                               0.000\n",
       "dtype: float64"
      ]
     },
     "execution_count": 48,
     "metadata": {},
     "output_type": "execute_result"
    }
   ],
   "source": [
    "# train the Lasso for US\n",
    "regLasso = linear_model.Lasso()\n",
    "regLasso.fit(Xu2,Yu2)\n",
    "usL = pd.Series({Xu2.columns[i] : regLasso.coef_[i]\n",
    "               for i in range(0,len(Xu2.columns))} )\n",
    "usL[usL != 0]"
   ]
  },
  {
   "cell_type": "markdown",
   "metadata": {},
   "source": [
    "### Great Britain"
   ]
  },
  {
   "cell_type": "code",
   "execution_count": 49,
   "metadata": {
    "collapsed": true
   },
   "outputs": [],
   "source": [
    "# define X for GB set where Y = backers\n",
    "Xg2 = GBreg.drop(['success','backers'], axis=1)\n",
    "Yg2 = GBreg.backers\n",
    "Xg2_train, Xg2_test, Yg2_train, Yg2_test = train_test_split(Xg2,Yg2,\n",
    "                                    test_size=.3,random_state=0)"
   ]
  },
  {
   "cell_type": "code",
   "execution_count": 50,
   "metadata": {},
   "outputs": [
    {
     "data": {
      "text/plain": [
       "Lasso(alpha=1.0, copy_X=True, fit_intercept=True, max_iter=1000,\n",
       "   normalize=False, positive=False, precompute=False, random_state=None,\n",
       "   selection='cyclic', tol=0.0001, warm_start=False)"
      ]
     },
     "execution_count": 50,
     "metadata": {},
     "output_type": "execute_result"
    },
    {
     "data": {
      "text/plain": [
       "duration                                  0.643\n",
       "launch_hour_0                           -11.529\n",
       "launch_hour_11                            9.843\n",
       "launch_hour_16                            3.568\n",
       "launch_hour_17                           20.615\n",
       "launch_hour_19                          -11.348\n",
       "launch_hour_20                           -9.362\n",
       "launch_hour_21                          -19.535\n",
       "launch_hour_22                          -23.166\n",
       "launch_hour_23                          -27.050\n",
       "launch_hour_9                             1.824\n",
       "launch_month_10                           2.802\n",
       "launch_month_11                           5.461\n",
       "launch_month_12                         -19.327\n",
       "launch_month_3                           -2.334\n",
       "launch_month_4                            6.011\n",
       "launch_month_5                            7.562\n",
       "launch_month_7                           -1.534\n",
       "launch_month_8                          -12.915\n",
       "launch_week_day_2                        20.572\n",
       "launch_week_day_6                       -16.047\n",
       "main_category_Comics                     12.298\n",
       "main_category_Design                    107.230\n",
       "main_category_Fashion                    -0.147\n",
       "main_category_Games                     206.772\n",
       "main_category_Publishing                  2.708\n",
       "main_category_Technology                 66.928\n",
       "usd_goal_real                             0.000\n",
       "dtype: float64"
      ]
     },
     "execution_count": 50,
     "metadata": {},
     "output_type": "execute_result"
    }
   ],
   "source": [
    "# train the Lasso for GB\n",
    "regLasso = linear_model.Lasso()\n",
    "regLasso.fit(Xg2,Yg2)\n",
    "gbL = pd.Series({Xg2.columns[i] : regLasso.coef_[i]\n",
    "               for i in range(0,len(Xg2.columns))} )\n",
    "gbL[gbL != 0]"
   ]
  },
  {
   "cell_type": "markdown",
   "metadata": {},
   "source": [
    "### Canada"
   ]
  },
  {
   "cell_type": "code",
   "execution_count": 51,
   "metadata": {
    "collapsed": true
   },
   "outputs": [],
   "source": [
    "# define X and Y for CA set with # of Backers as Y\n",
    "Xc2 = CAreg.drop(['success','backers'], axis=1)\n",
    "Yc2 = CAreg.backers\n",
    "Xc2_train, Xc_test, Yc2_train, Yc2_test = train_test_split(Xc2,Yc2,\n",
    "                                    test_size=.3,random_state=0)"
   ]
  },
  {
   "cell_type": "code",
   "execution_count": 52,
   "metadata": {},
   "outputs": [
    {
     "data": {
      "text/plain": [
       "Lasso(alpha=1.0, copy_X=True, fit_intercept=True, max_iter=1000,\n",
       "   normalize=False, positive=False, precompute=False, random_state=None,\n",
       "   selection='cyclic', tol=0.0001, warm_start=False)"
      ]
     },
     "execution_count": 52,
     "metadata": {},
     "output_type": "execute_result"
    },
    {
     "data": {
      "text/plain": [
       "duration                                    0.318\n",
       "launch_hour_0                              -1.299\n",
       "launch_hour_13                             19.140\n",
       "launch_hour_14                             92.511\n",
       "launch_hour_15                             87.441\n",
       "launch_hour_16                             31.317\n",
       "launch_hour_17                             23.625\n",
       "launch_hour_18                             61.344\n",
       "launch_hour_22                            -10.307\n",
       "launch_hour_23                             -9.766\n",
       "launch_hour_3                             -11.269\n",
       "launch_hour_5                              -0.430\n",
       "launch_hour_6                              10.144\n",
       "launch_month_1                             17.366\n",
       "launch_month_12                           -14.073\n",
       "launch_month_4                             -9.932\n",
       "launch_month_7                             29.553\n",
       "launch_month_8                             -0.604\n",
       "launch_week_day_1                          25.487\n",
       "launch_week_day_2                          24.489\n",
       "launch_week_day_3                          38.832\n",
       "launch_week_day_6                         -18.669\n",
       "main_category_Art                          -1.076\n",
       "main_category_Comics                       64.542\n",
       "main_category_Design                      150.678\n",
       "main_category_Film & Video                  1.540\n",
       "main_category_Food                         -9.409\n",
       "main_category_Games                       187.383\n",
       "main_category_Technology                   72.538\n",
       "usd_goal_real                              -0.000\n",
       "dtype: float64"
      ]
     },
     "execution_count": 52,
     "metadata": {},
     "output_type": "execute_result"
    }
   ],
   "source": [
    "# train the Lasso for CA\n",
    "regLasso = linear_model.Lasso()\n",
    "regLasso.fit(Xc2,Yc2)\n",
    "caL = pd.Series({Xc2.columns[i] : regLasso.coef_[i]\n",
    "               for i in range(0,len(Xc2.columns))} )\n",
    "caL[caL != 0]"
   ]
  },
  {
   "cell_type": "code",
   "execution_count": 53,
   "metadata": {},
   "outputs": [
    {
     "data": {
      "text/html": [
       "<div>\n",
       "<style>\n",
       "    .dataframe thead tr:only-child th {\n",
       "        text-align: right;\n",
       "    }\n",
       "\n",
       "    .dataframe thead th {\n",
       "        text-align: left;\n",
       "    }\n",
       "\n",
       "    .dataframe tbody tr th {\n",
       "        vertical-align: top;\n",
       "    }\n",
       "</style>\n",
       "<table border=\"1\" class=\"dataframe\">\n",
       "  <thead>\n",
       "    <tr style=\"text-align: right;\">\n",
       "      <th></th>\n",
       "      <th>KS</th>\n",
       "      <th>US</th>\n",
       "      <th>GB</th>\n",
       "      <th>CA</th>\n",
       "      <th>SUM</th>\n",
       "    </tr>\n",
       "  </thead>\n",
       "  <tbody>\n",
       "    <tr>\n",
       "      <th>duration</th>\n",
       "      <td>0.287</td>\n",
       "      <td>0.203</td>\n",
       "      <td>0.643</td>\n",
       "      <td>0.318</td>\n",
       "      <td>1.452</td>\n",
       "    </tr>\n",
       "    <tr>\n",
       "      <th>launch_hour_0</th>\n",
       "      <td>-12.919</td>\n",
       "      <td>-15.222</td>\n",
       "      <td>-11.529</td>\n",
       "      <td>-1.299</td>\n",
       "      <td>-40.969</td>\n",
       "    </tr>\n",
       "    <tr>\n",
       "      <th>launch_hour_1</th>\n",
       "      <td>-8.642</td>\n",
       "      <td>-15.025</td>\n",
       "      <td>0.000</td>\n",
       "      <td>-0.000</td>\n",
       "      <td>-23.668</td>\n",
       "    </tr>\n",
       "    <tr>\n",
       "      <th>launch_hour_11</th>\n",
       "      <td>0.000</td>\n",
       "      <td>0.000</td>\n",
       "      <td>9.843</td>\n",
       "      <td>0.000</td>\n",
       "      <td>9.843</td>\n",
       "    </tr>\n",
       "    <tr>\n",
       "      <th>launch_hour_13</th>\n",
       "      <td>40.630</td>\n",
       "      <td>65.483</td>\n",
       "      <td>0.000</td>\n",
       "      <td>19.140</td>\n",
       "      <td>125.253</td>\n",
       "    </tr>\n",
       "    <tr>\n",
       "      <th>launch_hour_14</th>\n",
       "      <td>91.322</td>\n",
       "      <td>113.159</td>\n",
       "      <td>0.000</td>\n",
       "      <td>92.511</td>\n",
       "      <td>296.992</td>\n",
       "    </tr>\n",
       "    <tr>\n",
       "      <th>launch_hour_15</th>\n",
       "      <td>92.736</td>\n",
       "      <td>109.489</td>\n",
       "      <td>-0.000</td>\n",
       "      <td>87.441</td>\n",
       "      <td>289.667</td>\n",
       "    </tr>\n",
       "    <tr>\n",
       "      <th>launch_hour_16</th>\n",
       "      <td>56.665</td>\n",
       "      <td>62.779</td>\n",
       "      <td>3.568</td>\n",
       "      <td>31.317</td>\n",
       "      <td>154.329</td>\n",
       "    </tr>\n",
       "    <tr>\n",
       "      <th>launch_hour_17</th>\n",
       "      <td>30.134</td>\n",
       "      <td>30.543</td>\n",
       "      <td>20.615</td>\n",
       "      <td>23.625</td>\n",
       "      <td>104.917</td>\n",
       "    </tr>\n",
       "    <tr>\n",
       "      <th>launch_hour_18</th>\n",
       "      <td>20.142</td>\n",
       "      <td>20.996</td>\n",
       "      <td>-0.000</td>\n",
       "      <td>61.344</td>\n",
       "      <td>102.482</td>\n",
       "    </tr>\n",
       "    <tr>\n",
       "      <th>launch_hour_19</th>\n",
       "      <td>0.000</td>\n",
       "      <td>3.201</td>\n",
       "      <td>-11.348</td>\n",
       "      <td>-0.000</td>\n",
       "      <td>-8.147</td>\n",
       "    </tr>\n",
       "    <tr>\n",
       "      <th>launch_hour_2</th>\n",
       "      <td>-1.221</td>\n",
       "      <td>-6.512</td>\n",
       "      <td>-0.000</td>\n",
       "      <td>0.000</td>\n",
       "      <td>-7.734</td>\n",
       "    </tr>\n",
       "    <tr>\n",
       "      <th>launch_hour_20</th>\n",
       "      <td>-0.000</td>\n",
       "      <td>-0.000</td>\n",
       "      <td>-9.362</td>\n",
       "      <td>-0.000</td>\n",
       "      <td>-9.362</td>\n",
       "    </tr>\n",
       "    <tr>\n",
       "      <th>launch_hour_21</th>\n",
       "      <td>-0.000</td>\n",
       "      <td>-0.000</td>\n",
       "      <td>-19.535</td>\n",
       "      <td>-0.000</td>\n",
       "      <td>-19.535</td>\n",
       "    </tr>\n",
       "    <tr>\n",
       "      <th>launch_hour_22</th>\n",
       "      <td>-9.785</td>\n",
       "      <td>-8.983</td>\n",
       "      <td>-23.166</td>\n",
       "      <td>-10.307</td>\n",
       "      <td>-52.241</td>\n",
       "    </tr>\n",
       "    <tr>\n",
       "      <th>launch_hour_23</th>\n",
       "      <td>-20.388</td>\n",
       "      <td>-21.188</td>\n",
       "      <td>-27.050</td>\n",
       "      <td>-9.766</td>\n",
       "      <td>-78.392</td>\n",
       "    </tr>\n",
       "    <tr>\n",
       "      <th>launch_hour_3</th>\n",
       "      <td>-5.401</td>\n",
       "      <td>-9.776</td>\n",
       "      <td>-0.000</td>\n",
       "      <td>-11.269</td>\n",
       "      <td>-26.445</td>\n",
       "    </tr>\n",
       "    <tr>\n",
       "      <th>launch_hour_4</th>\n",
       "      <td>-9.254</td>\n",
       "      <td>-15.677</td>\n",
       "      <td>-0.000</td>\n",
       "      <td>-0.000</td>\n",
       "      <td>-24.931</td>\n",
       "    </tr>\n",
       "    <tr>\n",
       "      <th>launch_hour_5</th>\n",
       "      <td>-0.000</td>\n",
       "      <td>-0.000</td>\n",
       "      <td>-0.000</td>\n",
       "      <td>-0.430</td>\n",
       "      <td>-0.430</td>\n",
       "    </tr>\n",
       "    <tr>\n",
       "      <th>launch_hour_6</th>\n",
       "      <td>0.000</td>\n",
       "      <td>0.000</td>\n",
       "      <td>-0.000</td>\n",
       "      <td>10.144</td>\n",
       "      <td>10.144</td>\n",
       "    </tr>\n",
       "    <tr>\n",
       "      <th>launch_hour_9</th>\n",
       "      <td>0.000</td>\n",
       "      <td>0.000</td>\n",
       "      <td>1.824</td>\n",
       "      <td>-0.000</td>\n",
       "      <td>1.824</td>\n",
       "    </tr>\n",
       "    <tr>\n",
       "      <th>launch_month_1</th>\n",
       "      <td>0.000</td>\n",
       "      <td>0.000</td>\n",
       "      <td>-0.000</td>\n",
       "      <td>17.366</td>\n",
       "      <td>17.366</td>\n",
       "    </tr>\n",
       "    <tr>\n",
       "      <th>launch_month_10</th>\n",
       "      <td>0.000</td>\n",
       "      <td>0.000</td>\n",
       "      <td>2.802</td>\n",
       "      <td>0.000</td>\n",
       "      <td>2.802</td>\n",
       "    </tr>\n",
       "    <tr>\n",
       "      <th>launch_month_11</th>\n",
       "      <td>-0.000</td>\n",
       "      <td>-0.000</td>\n",
       "      <td>5.461</td>\n",
       "      <td>0.000</td>\n",
       "      <td>5.461</td>\n",
       "    </tr>\n",
       "    <tr>\n",
       "      <th>launch_month_12</th>\n",
       "      <td>-14.106</td>\n",
       "      <td>-12.607</td>\n",
       "      <td>-19.327</td>\n",
       "      <td>-14.073</td>\n",
       "      <td>-60.114</td>\n",
       "    </tr>\n",
       "    <tr>\n",
       "      <th>launch_month_3</th>\n",
       "      <td>0.000</td>\n",
       "      <td>0.000</td>\n",
       "      <td>-2.334</td>\n",
       "      <td>0.000</td>\n",
       "      <td>-2.334</td>\n",
       "    </tr>\n",
       "    <tr>\n",
       "      <th>launch_month_4</th>\n",
       "      <td>0.000</td>\n",
       "      <td>0.000</td>\n",
       "      <td>6.011</td>\n",
       "      <td>-9.932</td>\n",
       "      <td>-3.921</td>\n",
       "    </tr>\n",
       "    <tr>\n",
       "      <th>launch_month_5</th>\n",
       "      <td>1.094</td>\n",
       "      <td>1.264</td>\n",
       "      <td>7.562</td>\n",
       "      <td>-0.000</td>\n",
       "      <td>9.920</td>\n",
       "    </tr>\n",
       "    <tr>\n",
       "      <th>launch_month_7</th>\n",
       "      <td>-0.000</td>\n",
       "      <td>-0.000</td>\n",
       "      <td>-1.534</td>\n",
       "      <td>29.553</td>\n",
       "      <td>28.019</td>\n",
       "    </tr>\n",
       "    <tr>\n",
       "      <th>launch_month_8</th>\n",
       "      <td>-0.000</td>\n",
       "      <td>-0.000</td>\n",
       "      <td>-12.915</td>\n",
       "      <td>-0.604</td>\n",
       "      <td>-13.520</td>\n",
       "    </tr>\n",
       "    <tr>\n",
       "      <th>launch_week_day_0</th>\n",
       "      <td>-1.809</td>\n",
       "      <td>-2.120</td>\n",
       "      <td>-0.000</td>\n",
       "      <td>-0.000</td>\n",
       "      <td>-3.929</td>\n",
       "    </tr>\n",
       "    <tr>\n",
       "      <th>launch_week_day_1</th>\n",
       "      <td>9.898</td>\n",
       "      <td>9.843</td>\n",
       "      <td>0.000</td>\n",
       "      <td>25.487</td>\n",
       "      <td>45.228</td>\n",
       "    </tr>\n",
       "    <tr>\n",
       "      <th>launch_week_day_2</th>\n",
       "      <td>59.453</td>\n",
       "      <td>63.918</td>\n",
       "      <td>20.572</td>\n",
       "      <td>24.489</td>\n",
       "      <td>168.431</td>\n",
       "    </tr>\n",
       "    <tr>\n",
       "      <th>launch_week_day_3</th>\n",
       "      <td>16.366</td>\n",
       "      <td>17.336</td>\n",
       "      <td>0.000</td>\n",
       "      <td>38.832</td>\n",
       "      <td>72.534</td>\n",
       "    </tr>\n",
       "    <tr>\n",
       "      <th>launch_week_day_5</th>\n",
       "      <td>-12.214</td>\n",
       "      <td>-15.988</td>\n",
       "      <td>0.000</td>\n",
       "      <td>-0.000</td>\n",
       "      <td>-28.202</td>\n",
       "    </tr>\n",
       "    <tr>\n",
       "      <th>launch_week_day_6</th>\n",
       "      <td>-23.004</td>\n",
       "      <td>-23.589</td>\n",
       "      <td>-16.047</td>\n",
       "      <td>-18.669</td>\n",
       "      <td>-81.308</td>\n",
       "    </tr>\n",
       "    <tr>\n",
       "      <th>main_category_Art</th>\n",
       "      <td>-6.481</td>\n",
       "      <td>-7.518</td>\n",
       "      <td>-0.000</td>\n",
       "      <td>-1.076</td>\n",
       "      <td>-15.074</td>\n",
       "    </tr>\n",
       "    <tr>\n",
       "      <th>main_category_Comics</th>\n",
       "      <td>46.440</td>\n",
       "      <td>48.521</td>\n",
       "      <td>12.298</td>\n",
       "      <td>64.542</td>\n",
       "      <td>171.802</td>\n",
       "    </tr>\n",
       "    <tr>\n",
       "      <th>main_category_Design</th>\n",
       "      <td>196.978</td>\n",
       "      <td>210.887</td>\n",
       "      <td>107.230</td>\n",
       "      <td>150.678</td>\n",
       "      <td>665.773</td>\n",
       "    </tr>\n",
       "    <tr>\n",
       "      <th>main_category_Fashion</th>\n",
       "      <td>0.000</td>\n",
       "      <td>0.000</td>\n",
       "      <td>-0.147</td>\n",
       "      <td>0.000</td>\n",
       "      <td>-0.147</td>\n",
       "    </tr>\n",
       "    <tr>\n",
       "      <th>main_category_Film &amp; Video</th>\n",
       "      <td>2.804</td>\n",
       "      <td>4.713</td>\n",
       "      <td>-0.000</td>\n",
       "      <td>1.540</td>\n",
       "      <td>9.057</td>\n",
       "    </tr>\n",
       "    <tr>\n",
       "      <th>main_category_Food</th>\n",
       "      <td>-0.000</td>\n",
       "      <td>-0.000</td>\n",
       "      <td>-0.000</td>\n",
       "      <td>-9.409</td>\n",
       "      <td>-9.409</td>\n",
       "    </tr>\n",
       "    <tr>\n",
       "      <th>main_category_Games</th>\n",
       "      <td>324.834</td>\n",
       "      <td>354.328</td>\n",
       "      <td>206.772</td>\n",
       "      <td>187.383</td>\n",
       "      <td>1,073.317</td>\n",
       "    </tr>\n",
       "    <tr>\n",
       "      <th>main_category_Publishing</th>\n",
       "      <td>-0.000</td>\n",
       "      <td>-0.000</td>\n",
       "      <td>2.708</td>\n",
       "      <td>-0.000</td>\n",
       "      <td>2.708</td>\n",
       "    </tr>\n",
       "    <tr>\n",
       "      <th>main_category_Technology</th>\n",
       "      <td>120.872</td>\n",
       "      <td>133.230</td>\n",
       "      <td>66.928</td>\n",
       "      <td>72.538</td>\n",
       "      <td>393.568</td>\n",
       "    </tr>\n",
       "    <tr>\n",
       "      <th>usd_goal_real</th>\n",
       "      <td>0.000</td>\n",
       "      <td>0.000</td>\n",
       "      <td>0.000</td>\n",
       "      <td>-0.000</td>\n",
       "      <td>0.000</td>\n",
       "    </tr>\n",
       "  </tbody>\n",
       "</table>\n",
       "</div>"
      ],
      "text/plain": [
       "                                             KS                   US  \\\n",
       "duration                                  0.287                0.203   \n",
       "launch_hour_0                           -12.919              -15.222   \n",
       "launch_hour_1                            -8.642              -15.025   \n",
       "launch_hour_11                            0.000                0.000   \n",
       "launch_hour_13                           40.630               65.483   \n",
       "launch_hour_14                           91.322              113.159   \n",
       "launch_hour_15                           92.736              109.489   \n",
       "launch_hour_16                           56.665               62.779   \n",
       "launch_hour_17                           30.134               30.543   \n",
       "launch_hour_18                           20.142               20.996   \n",
       "launch_hour_19                            0.000                3.201   \n",
       "launch_hour_2                            -1.221               -6.512   \n",
       "launch_hour_20                           -0.000               -0.000   \n",
       "launch_hour_21                           -0.000               -0.000   \n",
       "launch_hour_22                           -9.785               -8.983   \n",
       "launch_hour_23                          -20.388              -21.188   \n",
       "launch_hour_3                            -5.401               -9.776   \n",
       "launch_hour_4                            -9.254              -15.677   \n",
       "launch_hour_5                            -0.000               -0.000   \n",
       "launch_hour_6                             0.000                0.000   \n",
       "launch_hour_9                             0.000                0.000   \n",
       "launch_month_1                            0.000                0.000   \n",
       "launch_month_10                           0.000                0.000   \n",
       "launch_month_11                          -0.000               -0.000   \n",
       "launch_month_12                         -14.106              -12.607   \n",
       "launch_month_3                            0.000                0.000   \n",
       "launch_month_4                            0.000                0.000   \n",
       "launch_month_5                            1.094                1.264   \n",
       "launch_month_7                           -0.000               -0.000   \n",
       "launch_month_8                           -0.000               -0.000   \n",
       "launch_week_day_0                        -1.809               -2.120   \n",
       "launch_week_day_1                         9.898                9.843   \n",
       "launch_week_day_2                        59.453               63.918   \n",
       "launch_week_day_3                        16.366               17.336   \n",
       "launch_week_day_5                       -12.214              -15.988   \n",
       "launch_week_day_6                       -23.004              -23.589   \n",
       "main_category_Art                        -6.481               -7.518   \n",
       "main_category_Comics                     46.440               48.521   \n",
       "main_category_Design                    196.978              210.887   \n",
       "main_category_Fashion                     0.000                0.000   \n",
       "main_category_Film & Video                2.804                4.713   \n",
       "main_category_Food                       -0.000               -0.000   \n",
       "main_category_Games                     324.834              354.328   \n",
       "main_category_Publishing                 -0.000               -0.000   \n",
       "main_category_Technology                120.872              133.230   \n",
       "usd_goal_real                             0.000                0.000   \n",
       "\n",
       "                                             GB                   CA  \\\n",
       "duration                                  0.643                0.318   \n",
       "launch_hour_0                           -11.529               -1.299   \n",
       "launch_hour_1                             0.000               -0.000   \n",
       "launch_hour_11                            9.843                0.000   \n",
       "launch_hour_13                            0.000               19.140   \n",
       "launch_hour_14                            0.000               92.511   \n",
       "launch_hour_15                           -0.000               87.441   \n",
       "launch_hour_16                            3.568               31.317   \n",
       "launch_hour_17                           20.615               23.625   \n",
       "launch_hour_18                           -0.000               61.344   \n",
       "launch_hour_19                          -11.348               -0.000   \n",
       "launch_hour_2                            -0.000                0.000   \n",
       "launch_hour_20                           -9.362               -0.000   \n",
       "launch_hour_21                          -19.535               -0.000   \n",
       "launch_hour_22                          -23.166              -10.307   \n",
       "launch_hour_23                          -27.050               -9.766   \n",
       "launch_hour_3                            -0.000              -11.269   \n",
       "launch_hour_4                            -0.000               -0.000   \n",
       "launch_hour_5                            -0.000               -0.430   \n",
       "launch_hour_6                            -0.000               10.144   \n",
       "launch_hour_9                             1.824               -0.000   \n",
       "launch_month_1                           -0.000               17.366   \n",
       "launch_month_10                           2.802                0.000   \n",
       "launch_month_11                           5.461                0.000   \n",
       "launch_month_12                         -19.327              -14.073   \n",
       "launch_month_3                           -2.334                0.000   \n",
       "launch_month_4                            6.011               -9.932   \n",
       "launch_month_5                            7.562               -0.000   \n",
       "launch_month_7                           -1.534               29.553   \n",
       "launch_month_8                          -12.915               -0.604   \n",
       "launch_week_day_0                        -0.000               -0.000   \n",
       "launch_week_day_1                         0.000               25.487   \n",
       "launch_week_day_2                        20.572               24.489   \n",
       "launch_week_day_3                         0.000               38.832   \n",
       "launch_week_day_5                         0.000               -0.000   \n",
       "launch_week_day_6                       -16.047              -18.669   \n",
       "main_category_Art                        -0.000               -1.076   \n",
       "main_category_Comics                     12.298               64.542   \n",
       "main_category_Design                    107.230              150.678   \n",
       "main_category_Fashion                    -0.147                0.000   \n",
       "main_category_Film & Video               -0.000                1.540   \n",
       "main_category_Food                       -0.000               -9.409   \n",
       "main_category_Games                     206.772              187.383   \n",
       "main_category_Publishing                  2.708               -0.000   \n",
       "main_category_Technology                 66.928               72.538   \n",
       "usd_goal_real                             0.000               -0.000   \n",
       "\n",
       "                                            SUM  \n",
       "duration                                  1.452  \n",
       "launch_hour_0                           -40.969  \n",
       "launch_hour_1                           -23.668  \n",
       "launch_hour_11                            9.843  \n",
       "launch_hour_13                          125.253  \n",
       "launch_hour_14                          296.992  \n",
       "launch_hour_15                          289.667  \n",
       "launch_hour_16                          154.329  \n",
       "launch_hour_17                          104.917  \n",
       "launch_hour_18                          102.482  \n",
       "launch_hour_19                           -8.147  \n",
       "launch_hour_2                            -7.734  \n",
       "launch_hour_20                           -9.362  \n",
       "launch_hour_21                          -19.535  \n",
       "launch_hour_22                          -52.241  \n",
       "launch_hour_23                          -78.392  \n",
       "launch_hour_3                           -26.445  \n",
       "launch_hour_4                           -24.931  \n",
       "launch_hour_5                            -0.430  \n",
       "launch_hour_6                            10.144  \n",
       "launch_hour_9                             1.824  \n",
       "launch_month_1                           17.366  \n",
       "launch_month_10                           2.802  \n",
       "launch_month_11                           5.461  \n",
       "launch_month_12                         -60.114  \n",
       "launch_month_3                           -2.334  \n",
       "launch_month_4                           -3.921  \n",
       "launch_month_5                            9.920  \n",
       "launch_month_7                           28.019  \n",
       "launch_month_8                          -13.520  \n",
       "launch_week_day_0                        -3.929  \n",
       "launch_week_day_1                        45.228  \n",
       "launch_week_day_2                       168.431  \n",
       "launch_week_day_3                        72.534  \n",
       "launch_week_day_5                       -28.202  \n",
       "launch_week_day_6                       -81.308  \n",
       "main_category_Art                       -15.074  \n",
       "main_category_Comics                    171.802  \n",
       "main_category_Design                    665.773  \n",
       "main_category_Fashion                    -0.147  \n",
       "main_category_Film & Video                9.057  \n",
       "main_category_Food                       -9.409  \n",
       "main_category_Games                   1,073.317  \n",
       "main_category_Publishing                  2.708  \n",
       "main_category_Technology                393.568  \n",
       "usd_goal_real                             0.000  "
      ]
     },
     "execution_count": 53,
     "metadata": {},
     "output_type": "execute_result"
    }
   ],
   "source": [
    "dfL = pd.DataFrame({'KS':ksL,'US':usL,'GB':gbL,'CA':caL}, columns=['KS','US','GB','CA'])\n",
    "dfL['SUM'] = dfL.sum(axis = 1)\n",
    "dfL[dfL.SUM != 0]"
   ]
  },
  {
   "cell_type": "markdown",
   "metadata": {},
   "source": [
    "## Finding #3"
   ]
  },
  {
   "cell_type": "markdown",
   "metadata": {},
   "source": [
    "The amount of a campaigns goal has little to no impact on the number of backers the campaign attracts. This is true across countries. Additionally, the time of day, day of week and even month of the launch can have a surprising affect on the number of backers a campaign attracts. When taking success rates into considerations, Kickstarter is the best suited to raising money for Comics."
   ]
  },
  {
   "cell_type": "markdown",
   "metadata": {},
   "source": [
    "## Managerial Insights #3"
   ]
  },
  {
   "cell_type": "markdown",
   "metadata": {},
   "source": [
    "When considering launching a campaign, realize that the amount of money you want to raise may affect the attainability of your goal (see previous decision tree regressor), but it will not 'turn off' prospective backers from the get go. \n",
    "\n",
    "Check list for maximizing backers:\n",
    "<ul>\n",
    "<li> Tuesday launch (in any country)\n",
    "<li> 2-4pm launch time (if in US or Canada)\n",
    "<li> 5pm alternate launch time (in any country)\n",
    "<li> July launch in Canada\n",
    "</ul>\n",
    "\n",
    "Avoid list for maximizing backers:\n",
    "<ul>\n",
    "<li> Saturday launch (in any country)\n",
    "<li> Midnight launch time (in any country)\n",
    "<li> December launch (in any country)\n",
    "<li> August launch in Great Britain\n",
    "</ul>"
   ]
  },
  {
   "cell_type": "markdown",
   "metadata": {},
   "source": [
    "Whether kickstarter is really the right place for you to raise capital for you project or not depends on a combination of these findings and what was uncovered in the first finding. While Games, Design, and Technology all get significantly more backers than the other categories, their success rates as a category are low. Comics is the only category that gets a lot of backers and has a high rate of success. Also, while the regression suggests longer campaigns get more backers (which would make sense as they have more opportunity), the DurationBin success rates and the coefficients of the earlier logistic regression show that shorter campaigns are more successful than longer campaigns."
   ]
  },
  {
   "cell_type": "code",
   "execution_count": 54,
   "metadata": {},
   "outputs": [
    {
     "data": {
      "text/plain": [
       "DurationBin\n",
       "30                   0.367\n",
       "<30                  0.540\n",
       ">30                  0.405\n",
       "Name: success, dtype: float64"
      ]
     },
     "execution_count": 54,
     "metadata": {},
     "output_type": "execute_result"
    }
   ],
   "source": [
    "ks.groupby('DurationBin').success.mean()"
   ]
  },
  {
   "cell_type": "code",
   "execution_count": 55,
   "metadata": {},
   "outputs": [
    {
     "data": {
      "text/plain": [
       "<seaborn.axisgrid.FacetGrid at 0x28ae17f0>"
      ]
     },
     "execution_count": 55,
     "metadata": {},
     "output_type": "execute_result"
    },
    {
     "data": {
      "image/png": "[encoded data removed]",
      "text/plain": [
       "<matplotlib.figure.Figure at 0x28ad8748>"
      ]
     },
     "metadata": {},
     "output_type": "display_data"
    }
   ],
   "source": [
    "sns.factorplot(x='main_category',y='success',kind='bar', hue='country',data=ks,aspect=4)"
   ]
  }
 ],
 "metadata": {
  "kernelspec": {
   "display_name": "Python 3",
   "language": "python",
   "name": "python3"
  },
  "language_info": {
   "codemirror_mode": {
    "name": "ipython",
    "version": 3
   },
   "file_extension": ".py",
   "mimetype": "text/x-python",
   "name": "python",
   "nbconvert_exporter": "python",
   "pygments_lexer": "ipython3",
   "version": "3.6.4"
  }
 },
 "nbformat": 4,
 "nbformat_minor": 1
}
